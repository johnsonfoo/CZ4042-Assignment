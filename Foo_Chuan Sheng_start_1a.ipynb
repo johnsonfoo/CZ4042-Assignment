{
  "nbformat": 4,
  "nbformat_minor": 0,
  "metadata": {
    "colab": {
      "name": "Final start_1a.ipynb",
      "provenance": [],
      "collapsed_sections": []
    },
    "kernelspec": {
      "display_name": "Python 3",
      "name": "python3"
    },
    "language_info": {
      "name": "python"
    }
  },
  "cells": [
    {
      "cell_type": "markdown",
      "metadata": {
        "id": "5TyQM-oD5E0b"
      },
      "source": [
        "# Import Libraries"
      ]
    },
    {
      "cell_type": "code",
      "metadata": {
        "id": "YM8unKH7nSIM"
      },
      "source": [
        "import tensorflow\n",
        "import pandas as pd\n",
        "import time\n",
        "import numpy as np\n",
        "import matplotlib.pyplot as plt\n",
        "\n",
        "# tensorflow libraries\n",
        "import tensorflow as tf\n",
        "import tensorflow.keras as keras\n",
        "from tensorflow.keras import Sequential\n",
        "from tensorflow.keras.layers import Dense, Dropout\n",
        "\n",
        "# sklearn libraries are useful for preprocessing, performance measures, etc.\n",
        "from sklearn import preprocessing\n",
        "from sklearn.model_selection import KFold\n",
        "from sklearn.model_selection import train_test_split"
      ],
      "execution_count": null,
      "outputs": []
    },
    {
      "cell_type": "markdown",
      "metadata": {
        "id": "gmTBl3xoqA9g"
      },
      "source": [
        "# Read Data"
      ]
    },
    {
      "cell_type": "code",
      "metadata": {
        "colab": {
          "base_uri": "https://localhost:8080/",
          "height": 225
        },
        "id": "An4b9d12p8u2",
        "outputId": "809fd737-2fe4-4f3a-8620-958ccc371843"
      },
      "source": [
        "df = pd.read_csv('./features_30_sec.csv')\n",
        "df.head()"
      ],
      "execution_count": null,
      "outputs": [
        {
          "output_type": "execute_result",
          "data": {
            "text/html": [
              "<div>\n",
              "<style scoped>\n",
              "    .dataframe tbody tr th:only-of-type {\n",
              "        vertical-align: middle;\n",
              "    }\n",
              "\n",
              "    .dataframe tbody tr th {\n",
              "        vertical-align: top;\n",
              "    }\n",
              "\n",
              "    .dataframe thead th {\n",
              "        text-align: right;\n",
              "    }\n",
              "</style>\n",
              "<table border=\"1\" class=\"dataframe\">\n",
              "  <thead>\n",
              "    <tr style=\"text-align: right;\">\n",
              "      <th></th>\n",
              "      <th>filename</th>\n",
              "      <th>length</th>\n",
              "      <th>chroma_stft_mean</th>\n",
              "      <th>chroma_stft_var</th>\n",
              "      <th>rms_mean</th>\n",
              "      <th>rms_var</th>\n",
              "      <th>spectral_centroid_mean</th>\n",
              "      <th>spectral_centroid_var</th>\n",
              "      <th>spectral_bandwidth_mean</th>\n",
              "      <th>spectral_bandwidth_var</th>\n",
              "      <th>rolloff_mean</th>\n",
              "      <th>rolloff_var</th>\n",
              "      <th>zero_crossing_rate_mean</th>\n",
              "      <th>zero_crossing_rate_var</th>\n",
              "      <th>harmony_mean</th>\n",
              "      <th>harmony_var</th>\n",
              "      <th>perceptr_mean</th>\n",
              "      <th>perceptr_var</th>\n",
              "      <th>tempo</th>\n",
              "      <th>mfcc1_mean</th>\n",
              "      <th>mfcc1_var</th>\n",
              "      <th>mfcc2_mean</th>\n",
              "      <th>mfcc2_var</th>\n",
              "      <th>mfcc3_mean</th>\n",
              "      <th>mfcc3_var</th>\n",
              "      <th>mfcc4_mean</th>\n",
              "      <th>mfcc4_var</th>\n",
              "      <th>mfcc5_mean</th>\n",
              "      <th>mfcc5_var</th>\n",
              "      <th>mfcc6_mean</th>\n",
              "      <th>mfcc6_var</th>\n",
              "      <th>mfcc7_mean</th>\n",
              "      <th>mfcc7_var</th>\n",
              "      <th>mfcc8_mean</th>\n",
              "      <th>mfcc8_var</th>\n",
              "      <th>mfcc9_mean</th>\n",
              "      <th>mfcc9_var</th>\n",
              "      <th>mfcc10_mean</th>\n",
              "      <th>mfcc10_var</th>\n",
              "      <th>mfcc11_mean</th>\n",
              "      <th>mfcc11_var</th>\n",
              "      <th>mfcc12_mean</th>\n",
              "      <th>mfcc12_var</th>\n",
              "      <th>mfcc13_mean</th>\n",
              "      <th>mfcc13_var</th>\n",
              "      <th>mfcc14_mean</th>\n",
              "      <th>mfcc14_var</th>\n",
              "      <th>mfcc15_mean</th>\n",
              "      <th>mfcc15_var</th>\n",
              "      <th>mfcc16_mean</th>\n",
              "      <th>mfcc16_var</th>\n",
              "      <th>mfcc17_mean</th>\n",
              "      <th>mfcc17_var</th>\n",
              "      <th>mfcc18_mean</th>\n",
              "      <th>mfcc18_var</th>\n",
              "      <th>mfcc19_mean</th>\n",
              "      <th>mfcc19_var</th>\n",
              "      <th>mfcc20_mean</th>\n",
              "      <th>mfcc20_var</th>\n",
              "      <th>label</th>\n",
              "    </tr>\n",
              "  </thead>\n",
              "  <tbody>\n",
              "    <tr>\n",
              "      <th>0</th>\n",
              "      <td>blues.00000.wav</td>\n",
              "      <td>661794</td>\n",
              "      <td>0.350088</td>\n",
              "      <td>0.088757</td>\n",
              "      <td>0.130228</td>\n",
              "      <td>0.002827</td>\n",
              "      <td>1784.165850</td>\n",
              "      <td>129774.064525</td>\n",
              "      <td>2002.449060</td>\n",
              "      <td>85882.761315</td>\n",
              "      <td>3805.839606</td>\n",
              "      <td>9.015054e+05</td>\n",
              "      <td>0.083045</td>\n",
              "      <td>0.000767</td>\n",
              "      <td>-4.529724e-05</td>\n",
              "      <td>0.008172</td>\n",
              "      <td>0.000008</td>\n",
              "      <td>0.005698</td>\n",
              "      <td>123.046875</td>\n",
              "      <td>-113.570648</td>\n",
              "      <td>2564.207520</td>\n",
              "      <td>121.571793</td>\n",
              "      <td>295.913818</td>\n",
              "      <td>-19.168142</td>\n",
              "      <td>235.574432</td>\n",
              "      <td>42.366421</td>\n",
              "      <td>151.106873</td>\n",
              "      <td>-6.364664</td>\n",
              "      <td>167.934799</td>\n",
              "      <td>18.623499</td>\n",
              "      <td>89.180840</td>\n",
              "      <td>-13.704891</td>\n",
              "      <td>67.660492</td>\n",
              "      <td>15.343150</td>\n",
              "      <td>68.932579</td>\n",
              "      <td>-12.274110</td>\n",
              "      <td>82.204201</td>\n",
              "      <td>10.976572</td>\n",
              "      <td>63.386311</td>\n",
              "      <td>-8.326573</td>\n",
              "      <td>61.773094</td>\n",
              "      <td>8.803792</td>\n",
              "      <td>51.244125</td>\n",
              "      <td>-3.672300</td>\n",
              "      <td>41.217415</td>\n",
              "      <td>5.747995</td>\n",
              "      <td>40.554478</td>\n",
              "      <td>-5.162882</td>\n",
              "      <td>49.775421</td>\n",
              "      <td>0.752740</td>\n",
              "      <td>52.420910</td>\n",
              "      <td>-1.690215</td>\n",
              "      <td>36.524071</td>\n",
              "      <td>-0.408979</td>\n",
              "      <td>41.597103</td>\n",
              "      <td>-2.303523</td>\n",
              "      <td>55.062923</td>\n",
              "      <td>1.221291</td>\n",
              "      <td>46.936035</td>\n",
              "      <td>blues</td>\n",
              "    </tr>\n",
              "    <tr>\n",
              "      <th>1</th>\n",
              "      <td>blues.00001.wav</td>\n",
              "      <td>661794</td>\n",
              "      <td>0.340914</td>\n",
              "      <td>0.094980</td>\n",
              "      <td>0.095948</td>\n",
              "      <td>0.002373</td>\n",
              "      <td>1530.176679</td>\n",
              "      <td>375850.073649</td>\n",
              "      <td>2039.036516</td>\n",
              "      <td>213843.755497</td>\n",
              "      <td>3550.522098</td>\n",
              "      <td>2.977893e+06</td>\n",
              "      <td>0.056040</td>\n",
              "      <td>0.001448</td>\n",
              "      <td>1.395807e-04</td>\n",
              "      <td>0.005099</td>\n",
              "      <td>-0.000178</td>\n",
              "      <td>0.003063</td>\n",
              "      <td>67.999589</td>\n",
              "      <td>-207.501694</td>\n",
              "      <td>7764.555176</td>\n",
              "      <td>123.991264</td>\n",
              "      <td>560.259949</td>\n",
              "      <td>8.955127</td>\n",
              "      <td>572.810913</td>\n",
              "      <td>35.877647</td>\n",
              "      <td>264.506104</td>\n",
              "      <td>2.907320</td>\n",
              "      <td>279.932922</td>\n",
              "      <td>21.510466</td>\n",
              "      <td>156.477097</td>\n",
              "      <td>-8.560436</td>\n",
              "      <td>200.849182</td>\n",
              "      <td>23.370686</td>\n",
              "      <td>142.555954</td>\n",
              "      <td>-10.099661</td>\n",
              "      <td>166.108521</td>\n",
              "      <td>11.900497</td>\n",
              "      <td>104.358612</td>\n",
              "      <td>-5.555639</td>\n",
              "      <td>105.173630</td>\n",
              "      <td>5.376327</td>\n",
              "      <td>96.197212</td>\n",
              "      <td>-2.231760</td>\n",
              "      <td>64.914291</td>\n",
              "      <td>4.220140</td>\n",
              "      <td>73.152534</td>\n",
              "      <td>-6.012148</td>\n",
              "      <td>52.422142</td>\n",
              "      <td>0.927998</td>\n",
              "      <td>55.356403</td>\n",
              "      <td>-0.731125</td>\n",
              "      <td>60.314529</td>\n",
              "      <td>0.295073</td>\n",
              "      <td>48.120598</td>\n",
              "      <td>-0.283518</td>\n",
              "      <td>51.106190</td>\n",
              "      <td>0.531217</td>\n",
              "      <td>45.786282</td>\n",
              "      <td>blues</td>\n",
              "    </tr>\n",
              "    <tr>\n",
              "      <th>2</th>\n",
              "      <td>blues.00002.wav</td>\n",
              "      <td>661794</td>\n",
              "      <td>0.363637</td>\n",
              "      <td>0.085275</td>\n",
              "      <td>0.175570</td>\n",
              "      <td>0.002746</td>\n",
              "      <td>1552.811865</td>\n",
              "      <td>156467.643368</td>\n",
              "      <td>1747.702312</td>\n",
              "      <td>76254.192257</td>\n",
              "      <td>3042.260232</td>\n",
              "      <td>7.840345e+05</td>\n",
              "      <td>0.076291</td>\n",
              "      <td>0.001007</td>\n",
              "      <td>2.105576e-06</td>\n",
              "      <td>0.016342</td>\n",
              "      <td>-0.000019</td>\n",
              "      <td>0.007458</td>\n",
              "      <td>161.499023</td>\n",
              "      <td>-90.722595</td>\n",
              "      <td>3319.044922</td>\n",
              "      <td>140.446304</td>\n",
              "      <td>508.765045</td>\n",
              "      <td>-29.093889</td>\n",
              "      <td>411.781219</td>\n",
              "      <td>31.684334</td>\n",
              "      <td>144.090317</td>\n",
              "      <td>-13.984504</td>\n",
              "      <td>155.493759</td>\n",
              "      <td>25.764742</td>\n",
              "      <td>74.548401</td>\n",
              "      <td>-13.664875</td>\n",
              "      <td>106.981827</td>\n",
              "      <td>11.639934</td>\n",
              "      <td>106.574875</td>\n",
              "      <td>-11.783643</td>\n",
              "      <td>65.447945</td>\n",
              "      <td>9.718760</td>\n",
              "      <td>67.908859</td>\n",
              "      <td>-13.133803</td>\n",
              "      <td>57.781425</td>\n",
              "      <td>5.791199</td>\n",
              "      <td>64.480209</td>\n",
              "      <td>-8.907628</td>\n",
              "      <td>60.385151</td>\n",
              "      <td>-1.077000</td>\n",
              "      <td>57.711136</td>\n",
              "      <td>-9.229274</td>\n",
              "      <td>36.580986</td>\n",
              "      <td>2.451690</td>\n",
              "      <td>40.598766</td>\n",
              "      <td>-7.729093</td>\n",
              "      <td>47.639427</td>\n",
              "      <td>-1.816407</td>\n",
              "      <td>52.382141</td>\n",
              "      <td>-3.439720</td>\n",
              "      <td>46.639660</td>\n",
              "      <td>-2.231258</td>\n",
              "      <td>30.573025</td>\n",
              "      <td>blues</td>\n",
              "    </tr>\n",
              "    <tr>\n",
              "      <th>3</th>\n",
              "      <td>blues.00003.wav</td>\n",
              "      <td>661794</td>\n",
              "      <td>0.404785</td>\n",
              "      <td>0.093999</td>\n",
              "      <td>0.141093</td>\n",
              "      <td>0.006346</td>\n",
              "      <td>1070.106615</td>\n",
              "      <td>184355.942417</td>\n",
              "      <td>1596.412872</td>\n",
              "      <td>166441.494769</td>\n",
              "      <td>2184.745799</td>\n",
              "      <td>1.493194e+06</td>\n",
              "      <td>0.033309</td>\n",
              "      <td>0.000423</td>\n",
              "      <td>4.583644e-07</td>\n",
              "      <td>0.019054</td>\n",
              "      <td>-0.000014</td>\n",
              "      <td>0.002712</td>\n",
              "      <td>63.024009</td>\n",
              "      <td>-199.544205</td>\n",
              "      <td>5507.517090</td>\n",
              "      <td>150.090897</td>\n",
              "      <td>456.505402</td>\n",
              "      <td>5.662678</td>\n",
              "      <td>257.161163</td>\n",
              "      <td>26.859079</td>\n",
              "      <td>158.267303</td>\n",
              "      <td>1.771399</td>\n",
              "      <td>268.034393</td>\n",
              "      <td>14.234031</td>\n",
              "      <td>126.794128</td>\n",
              "      <td>-4.832006</td>\n",
              "      <td>155.912079</td>\n",
              "      <td>9.286494</td>\n",
              "      <td>81.273743</td>\n",
              "      <td>-0.759186</td>\n",
              "      <td>92.114090</td>\n",
              "      <td>8.137607</td>\n",
              "      <td>71.314079</td>\n",
              "      <td>-3.200653</td>\n",
              "      <td>110.236687</td>\n",
              "      <td>6.079319</td>\n",
              "      <td>48.251999</td>\n",
              "      <td>-2.480174</td>\n",
              "      <td>56.799400</td>\n",
              "      <td>-1.079305</td>\n",
              "      <td>62.289902</td>\n",
              "      <td>-2.870789</td>\n",
              "      <td>51.651592</td>\n",
              "      <td>0.780874</td>\n",
              "      <td>44.427753</td>\n",
              "      <td>-3.319597</td>\n",
              "      <td>50.206673</td>\n",
              "      <td>0.636965</td>\n",
              "      <td>37.319130</td>\n",
              "      <td>-0.619121</td>\n",
              "      <td>37.259739</td>\n",
              "      <td>-3.407448</td>\n",
              "      <td>31.949339</td>\n",
              "      <td>blues</td>\n",
              "    </tr>\n",
              "    <tr>\n",
              "      <th>4</th>\n",
              "      <td>blues.00004.wav</td>\n",
              "      <td>661794</td>\n",
              "      <td>0.308526</td>\n",
              "      <td>0.087841</td>\n",
              "      <td>0.091529</td>\n",
              "      <td>0.002303</td>\n",
              "      <td>1835.004266</td>\n",
              "      <td>343399.939274</td>\n",
              "      <td>1748.172116</td>\n",
              "      <td>88445.209036</td>\n",
              "      <td>3579.757627</td>\n",
              "      <td>1.572978e+06</td>\n",
              "      <td>0.101461</td>\n",
              "      <td>0.001954</td>\n",
              "      <td>-1.756129e-05</td>\n",
              "      <td>0.004814</td>\n",
              "      <td>-0.000010</td>\n",
              "      <td>0.003094</td>\n",
              "      <td>135.999178</td>\n",
              "      <td>-160.337708</td>\n",
              "      <td>5195.291992</td>\n",
              "      <td>126.219635</td>\n",
              "      <td>853.784729</td>\n",
              "      <td>-35.587811</td>\n",
              "      <td>333.792938</td>\n",
              "      <td>22.148071</td>\n",
              "      <td>193.456100</td>\n",
              "      <td>-32.478600</td>\n",
              "      <td>336.276825</td>\n",
              "      <td>10.852294</td>\n",
              "      <td>134.831573</td>\n",
              "      <td>-23.352329</td>\n",
              "      <td>93.257095</td>\n",
              "      <td>0.498434</td>\n",
              "      <td>124.672127</td>\n",
              "      <td>-11.793437</td>\n",
              "      <td>130.073349</td>\n",
              "      <td>1.207256</td>\n",
              "      <td>99.675575</td>\n",
              "      <td>-13.088418</td>\n",
              "      <td>80.254066</td>\n",
              "      <td>-2.813867</td>\n",
              "      <td>86.430626</td>\n",
              "      <td>-6.933385</td>\n",
              "      <td>89.555443</td>\n",
              "      <td>-7.552725</td>\n",
              "      <td>70.943336</td>\n",
              "      <td>-9.164666</td>\n",
              "      <td>75.793404</td>\n",
              "      <td>-4.520576</td>\n",
              "      <td>86.099236</td>\n",
              "      <td>-5.454034</td>\n",
              "      <td>75.269707</td>\n",
              "      <td>-0.916874</td>\n",
              "      <td>53.613918</td>\n",
              "      <td>-4.404827</td>\n",
              "      <td>62.910812</td>\n",
              "      <td>-11.703234</td>\n",
              "      <td>55.195160</td>\n",
              "      <td>blues</td>\n",
              "    </tr>\n",
              "  </tbody>\n",
              "</table>\n",
              "</div>"
            ],
            "text/plain": [
              "          filename  length  chroma_stft_mean  ...  mfcc20_mean  mfcc20_var  label\n",
              "0  blues.00000.wav  661794          0.350088  ...     1.221291   46.936035  blues\n",
              "1  blues.00001.wav  661794          0.340914  ...     0.531217   45.786282  blues\n",
              "2  blues.00002.wav  661794          0.363637  ...    -2.231258   30.573025  blues\n",
              "3  blues.00003.wav  661794          0.404785  ...    -3.407448   31.949339  blues\n",
              "4  blues.00004.wav  661794          0.308526  ...   -11.703234   55.195160  blues\n",
              "\n",
              "[5 rows x 60 columns]"
            ]
          },
          "metadata": {},
          "execution_count": 2
        }
      ]
    },
    {
      "cell_type": "code",
      "metadata": {
        "colab": {
          "base_uri": "https://localhost:8080/"
        },
        "id": "CHZQbQVzqGIA",
        "outputId": "4b229914-5b23-49c3-b675-d88d7eb9a63c"
      },
      "source": [
        "df['label'].value_counts()"
      ],
      "execution_count": null,
      "outputs": [
        {
          "output_type": "execute_result",
          "data": {
            "text/plain": [
              "country      100\n",
              "rock         100\n",
              "hiphop       100\n",
              "classical    100\n",
              "metal        100\n",
              "blues        100\n",
              "disco        100\n",
              "jazz         100\n",
              "pop          100\n",
              "reggae       100\n",
              "Name: label, dtype: int64"
            ]
          },
          "metadata": {},
          "execution_count": 3
        }
      ]
    },
    {
      "cell_type": "markdown",
      "metadata": {
        "id": "1zp_RDMgqL9Z"
      },
      "source": [
        "Split and scale dataset"
      ]
    },
    {
      "cell_type": "code",
      "metadata": {
        "id": "2fNTd9t7qHCI"
      },
      "source": [
        "columns_to_drop = ['label', 'filename', 'length']\n",
        "\n",
        "\n",
        "def prepare_dataset(df, columns_to_drop, test_size, random_state):\n",
        "    # Encode the labels from 0 to n_classes-1\n",
        "    label_encoder = preprocessing.LabelEncoder()\n",
        "    df['label'] = label_encoder.fit_transform(df['label'])\n",
        "\n",
        "    # devide data to train and test\n",
        "    df_train, df_test = train_test_split(df, test_size=test_size, random_state=random_state)\n",
        "\n",
        "    # scale the training inputs\n",
        "    x_train = df_train.drop(columns_to_drop, axis=1)\n",
        "    y_train = df_train['label'].to_numpy()\n",
        "\n",
        "    standard_scaler = preprocessing.StandardScaler()\n",
        "    x_train_scaled = standard_scaler.fit_transform(x_train)\n",
        "\n",
        "    #scale and prepare testing data\n",
        "    x_test = df_test.drop(columns_to_drop, axis=1)\n",
        "    x_test_scaled = standard_scaler.transform(x_test)\n",
        "    y_test = df_test['label'].to_numpy()\n",
        "\n",
        "    return x_train_scaled, y_train, x_test_scaled, y_test"
      ],
      "execution_count": null,
      "outputs": []
    },
    {
      "cell_type": "code",
      "metadata": {
        "colab": {
          "base_uri": "https://localhost:8080/"
        },
        "id": "gZvkUpgI5E0f",
        "outputId": "d94db552-d822-4d73-fdb9-5de27c9d1305"
      },
      "source": [
        "X_train, y_train, X_test, y_test = prepare_dataset(df, columns_to_drop, test_size=0.3, random_state=0)\n",
        "\n",
        "print(X_train.shape, y_train.shape)\n",
        "print(X_test.shape, y_test.shape)"
      ],
      "execution_count": null,
      "outputs": [
        {
          "output_type": "stream",
          "name": "stdout",
          "text": [
            "(700, 57) (700,)\n",
            "(300, 57) (300,)\n"
          ]
        }
      ]
    },
    {
      "cell_type": "markdown",
      "metadata": {
        "id": "wTXKiXJ55E0g"
      },
      "source": [
        "# Question 1\n",
        "\n",
        "Design a feedforward deep neural network (DNN) which consists of an input layer, one hidden layer of 16 neurons with ReLU activation function, and an output softmax layer. Use an stochastic gradient descent with ‘adam’ optimizer with default parameters, and batch size = 1. Apply dropout of probability 0.3 to the hidden layer. Divide the dataset into a 70:30 ratio for training and testing. Use appropriate scaling of input features. We solely assume that there are only two datasets here: training & test. We would look into validation in Question 2 onwards."
      ]
    },
    {
      "cell_type": "code",
      "metadata": {
        "id": "mYafv6Ed5E0q",
        "scrolled": true
      },
      "source": [
        "class Question1():\n",
        "\n",
        "    def __init__(self, X_train, y_train, X_test, y_test, epochs=50, num_hidden_neurons=16, batch_size=1):\n",
        "        self.epochs = epochs\n",
        "        self.num_hidden_neurons = num_hidden_neurons\n",
        "        self.batch_size = batch_size\n",
        "        self.seed = 0\n",
        "        self.history = None\n",
        "\n",
        "        self.X_train = X_train\n",
        "        self.y_train = y_train\n",
        "        self.X_test = X_test\n",
        "        self.y_test = y_test\n",
        "\n",
        "        np.random.seed(self.seed)\n",
        "        tf.random.set_seed(self.seed)\n",
        "\n",
        "    def create_model(self, num_hidden_neurons=None):\n",
        "        # create the model\n",
        "        num_hidden_neurons = num_hidden_neurons or self.num_hidden_neurons\n",
        "        self.model = tf.keras.Sequential([\n",
        "            tf.keras.layers.Dense(units=num_hidden_neurons, activation=\"relu\"),\n",
        "            tf.keras.layers.Dropout(rate=0.3, seed=self.seed),\n",
        "            tf.keras.layers.Dense(units=10, activation=\"softmax\")\n",
        "        ])\n",
        "\n",
        "        self.model.compile(optimizer=\"adam\",\n",
        "                           loss=\"sparse_categorical_crossentropy\",\n",
        "                           metrics=[\"accuracy\"])\n",
        "\n",
        "    def summarize_model(self):\n",
        "        # summarize the model\n",
        "        print(self.model.summary())\n",
        "\n",
        "    def train_model(self, batch_size=None):\n",
        "        # train the model\n",
        "        batch_size = batch_size or self.batch_size\n",
        "        self.history = self.model.fit(x=self.X_train, y=self.y_train,\n",
        "                                      batch_size=batch_size,\n",
        "                                      epochs=self.epochs,\n",
        "                                      verbose=1,\n",
        "                                      validation_data=(self.X_test, self.y_test))\n",
        "\n",
        "    def plot_model(self, variable=\"loss\", epoch_start=1, epoch_end=None):\n",
        "        # plot learning curves\n",
        "        train_epochs = self.history.history[variable][epoch_start - 1:epoch_end]\n",
        "        val_epochs = self.history.history[\"val_{}\".format(variable)][epoch_start - 1:epoch_end]\n",
        "        number_epochs = len(self.history.history[variable][epoch_start - 1:epoch_end])\n",
        "\n",
        "        plt.plot(range(epoch_start, epoch_start + number_epochs), train_epochs,\n",
        "                 label=\"Model training {}\".format(variable))\n",
        "        plt.plot(range(epoch_start, epoch_start + number_epochs), val_epochs, label=\"Model test {}\".format(variable))\n",
        "        plt.title(\"Model {}\".format(variable))\n",
        "        plt.ylabel(\"{}\".format(variable))\n",
        "        plt.xlabel(\"epoch\")\n",
        "        plt.legend(loc=\"best\")\n",
        "        plt.show()"
      ],
      "execution_count": null,
      "outputs": []
    },
    {
      "cell_type": "markdown",
      "metadata": {
        "id": "zLqAlbkv5E0s"
      },
      "source": [
        "a) Use the training dataset to train the model for 50 epochs. Note: Use 50 epochs for subsequent experiments."
      ]
    },
    {
      "cell_type": "code",
      "metadata": {
        "colab": {
          "base_uri": "https://localhost:8080/"
        },
        "id": "YbjYnAHH5E0s",
        "scrolled": true,
        "outputId": "6f9807ee-3119-480a-d858-15d466076b8f"
      },
      "source": [
        "question1 = Question1(X_train, y_train, X_test, y_test)\n",
        "question1.create_model()\n",
        "question1.train_model()"
      ],
      "execution_count": null,
      "outputs": [
        {
          "output_type": "stream",
          "name": "stdout",
          "text": [
            "Epoch 1/50\n",
            "700/700 [==============================] - 2s 2ms/step - loss: 2.1328 - accuracy: 0.2600 - val_loss: 1.8476 - val_accuracy: 0.3600\n",
            "Epoch 2/50\n",
            "700/700 [==============================] - 1s 2ms/step - loss: 1.7141 - accuracy: 0.3814 - val_loss: 1.6001 - val_accuracy: 0.4300\n",
            "Epoch 3/50\n",
            "700/700 [==============================] - 1s 2ms/step - loss: 1.4697 - accuracy: 0.4429 - val_loss: 1.4565 - val_accuracy: 0.4600\n",
            "Epoch 4/50\n",
            "700/700 [==============================] - 1s 2ms/step - loss: 1.3955 - accuracy: 0.4700 - val_loss: 1.3453 - val_accuracy: 0.4967\n",
            "Epoch 5/50\n",
            "700/700 [==============================] - 1s 2ms/step - loss: 1.2862 - accuracy: 0.5200 - val_loss: 1.2631 - val_accuracy: 0.5433\n",
            "Epoch 6/50\n",
            "700/700 [==============================] - 1s 2ms/step - loss: 1.2021 - accuracy: 0.5714 - val_loss: 1.2389 - val_accuracy: 0.5633\n",
            "Epoch 7/50\n",
            "700/700 [==============================] - 1s 2ms/step - loss: 1.1649 - accuracy: 0.5557 - val_loss: 1.1858 - val_accuracy: 0.5700\n",
            "Epoch 8/50\n",
            "700/700 [==============================] - 1s 2ms/step - loss: 1.1362 - accuracy: 0.5886 - val_loss: 1.1606 - val_accuracy: 0.5900\n",
            "Epoch 9/50\n",
            "700/700 [==============================] - 1s 2ms/step - loss: 1.0691 - accuracy: 0.5957 - val_loss: 1.1227 - val_accuracy: 0.5867\n",
            "Epoch 10/50\n",
            "700/700 [==============================] - 1s 2ms/step - loss: 1.0910 - accuracy: 0.5900 - val_loss: 1.1090 - val_accuracy: 0.6100\n",
            "Epoch 11/50\n",
            "700/700 [==============================] - 1s 2ms/step - loss: 1.0511 - accuracy: 0.6229 - val_loss: 1.0966 - val_accuracy: 0.6167\n",
            "Epoch 12/50\n",
            "700/700 [==============================] - 1s 2ms/step - loss: 1.0189 - accuracy: 0.6114 - val_loss: 1.1024 - val_accuracy: 0.6200\n",
            "Epoch 13/50\n",
            "700/700 [==============================] - 1s 2ms/step - loss: 1.0068 - accuracy: 0.6329 - val_loss: 1.0916 - val_accuracy: 0.6233\n",
            "Epoch 14/50\n",
            "700/700 [==============================] - 1s 2ms/step - loss: 0.9889 - accuracy: 0.6343 - val_loss: 1.0854 - val_accuracy: 0.6267\n",
            "Epoch 15/50\n",
            "700/700 [==============================] - 1s 2ms/step - loss: 0.9504 - accuracy: 0.6543 - val_loss: 1.0732 - val_accuracy: 0.6133\n",
            "Epoch 16/50\n",
            "700/700 [==============================] - 1s 2ms/step - loss: 0.9145 - accuracy: 0.6714 - val_loss: 1.0645 - val_accuracy: 0.6367\n",
            "Epoch 17/50\n",
            "700/700 [==============================] - 1s 2ms/step - loss: 0.9295 - accuracy: 0.6600 - val_loss: 1.0758 - val_accuracy: 0.6333\n",
            "Epoch 18/50\n",
            "700/700 [==============================] - 1s 2ms/step - loss: 0.8881 - accuracy: 0.6643 - val_loss: 1.0523 - val_accuracy: 0.6533\n",
            "Epoch 19/50\n",
            "700/700 [==============================] - 1s 2ms/step - loss: 0.9111 - accuracy: 0.6643 - val_loss: 1.0611 - val_accuracy: 0.6467\n",
            "Epoch 20/50\n",
            "700/700 [==============================] - 1s 2ms/step - loss: 0.8643 - accuracy: 0.6629 - val_loss: 1.0811 - val_accuracy: 0.6400\n",
            "Epoch 21/50\n",
            "700/700 [==============================] - 1s 2ms/step - loss: 0.8298 - accuracy: 0.7086 - val_loss: 1.0554 - val_accuracy: 0.6667\n",
            "Epoch 22/50\n",
            "700/700 [==============================] - 1s 2ms/step - loss: 0.8597 - accuracy: 0.6800 - val_loss: 1.1060 - val_accuracy: 0.6333\n",
            "Epoch 23/50\n",
            "700/700 [==============================] - 1s 2ms/step - loss: 0.8481 - accuracy: 0.6629 - val_loss: 1.0852 - val_accuracy: 0.6500\n",
            "Epoch 24/50\n",
            "700/700 [==============================] - 1s 2ms/step - loss: 0.8115 - accuracy: 0.7071 - val_loss: 1.0638 - val_accuracy: 0.6667\n",
            "Epoch 25/50\n",
            "700/700 [==============================] - 1s 2ms/step - loss: 0.8213 - accuracy: 0.6900 - val_loss: 1.0755 - val_accuracy: 0.6633\n",
            "Epoch 26/50\n",
            "700/700 [==============================] - 1s 2ms/step - loss: 0.8002 - accuracy: 0.6986 - val_loss: 1.0836 - val_accuracy: 0.6500\n",
            "Epoch 27/50\n",
            "700/700 [==============================] - 1s 2ms/step - loss: 0.8176 - accuracy: 0.6900 - val_loss: 1.0856 - val_accuracy: 0.6433\n",
            "Epoch 28/50\n",
            "700/700 [==============================] - 1s 2ms/step - loss: 0.7748 - accuracy: 0.7129 - val_loss: 1.1020 - val_accuracy: 0.6500\n",
            "Epoch 29/50\n",
            "700/700 [==============================] - 1s 2ms/step - loss: 0.7891 - accuracy: 0.7043 - val_loss: 1.0871 - val_accuracy: 0.6667\n",
            "Epoch 30/50\n",
            "700/700 [==============================] - 1s 2ms/step - loss: 0.7512 - accuracy: 0.7143 - val_loss: 1.1156 - val_accuracy: 0.6500\n",
            "Epoch 31/50\n",
            "700/700 [==============================] - 1s 2ms/step - loss: 0.8030 - accuracy: 0.6714 - val_loss: 1.0817 - val_accuracy: 0.6500\n",
            "Epoch 32/50\n",
            "700/700 [==============================] - 1s 2ms/step - loss: 0.7311 - accuracy: 0.7214 - val_loss: 1.1091 - val_accuracy: 0.6367\n",
            "Epoch 33/50\n",
            "700/700 [==============================] - 1s 2ms/step - loss: 0.7233 - accuracy: 0.7271 - val_loss: 1.0908 - val_accuracy: 0.6667\n",
            "Epoch 34/50\n",
            "700/700 [==============================] - 1s 2ms/step - loss: 0.8070 - accuracy: 0.6857 - val_loss: 1.1303 - val_accuracy: 0.6567\n",
            "Epoch 35/50\n",
            "700/700 [==============================] - 1s 2ms/step - loss: 0.7529 - accuracy: 0.7029 - val_loss: 1.1302 - val_accuracy: 0.6500\n",
            "Epoch 36/50\n",
            "700/700 [==============================] - 1s 2ms/step - loss: 0.7506 - accuracy: 0.7129 - val_loss: 1.1641 - val_accuracy: 0.6433\n",
            "Epoch 37/50\n",
            "700/700 [==============================] - 1s 2ms/step - loss: 0.7274 - accuracy: 0.7129 - val_loss: 1.1520 - val_accuracy: 0.6467\n",
            "Epoch 38/50\n",
            "700/700 [==============================] - 1s 2ms/step - loss: 0.7003 - accuracy: 0.7314 - val_loss: 1.1581 - val_accuracy: 0.6533\n",
            "Epoch 39/50\n",
            "700/700 [==============================] - 1s 2ms/step - loss: 0.6999 - accuracy: 0.7329 - val_loss: 1.1368 - val_accuracy: 0.6500\n",
            "Epoch 40/50\n",
            "700/700 [==============================] - 1s 2ms/step - loss: 0.7087 - accuracy: 0.7171 - val_loss: 1.1710 - val_accuracy: 0.6800\n",
            "Epoch 41/50\n",
            "700/700 [==============================] - 1s 2ms/step - loss: 0.6701 - accuracy: 0.7471 - val_loss: 1.1699 - val_accuracy: 0.6733\n",
            "Epoch 42/50\n",
            "700/700 [==============================] - 1s 2ms/step - loss: 0.7030 - accuracy: 0.7243 - val_loss: 1.1798 - val_accuracy: 0.6633\n",
            "Epoch 43/50\n",
            "700/700 [==============================] - 1s 2ms/step - loss: 0.7670 - accuracy: 0.7000 - val_loss: 1.1547 - val_accuracy: 0.6767\n",
            "Epoch 44/50\n",
            "700/700 [==============================] - 1s 2ms/step - loss: 0.7033 - accuracy: 0.7457 - val_loss: 1.2041 - val_accuracy: 0.6800\n",
            "Epoch 45/50\n",
            "700/700 [==============================] - 1s 2ms/step - loss: 0.7060 - accuracy: 0.7286 - val_loss: 1.1788 - val_accuracy: 0.6733\n",
            "Epoch 46/50\n",
            "700/700 [==============================] - 1s 2ms/step - loss: 0.7260 - accuracy: 0.7100 - val_loss: 1.2210 - val_accuracy: 0.6567\n",
            "Epoch 47/50\n",
            "700/700 [==============================] - 1s 2ms/step - loss: 0.6900 - accuracy: 0.7414 - val_loss: 1.2467 - val_accuracy: 0.6633\n",
            "Epoch 48/50\n",
            "700/700 [==============================] - 1s 2ms/step - loss: 0.6785 - accuracy: 0.7286 - val_loss: 1.1933 - val_accuracy: 0.6667\n",
            "Epoch 49/50\n",
            "700/700 [==============================] - 1s 2ms/step - loss: 0.7236 - accuracy: 0.7200 - val_loss: 1.2271 - val_accuracy: 0.6567\n",
            "Epoch 50/50\n",
            "700/700 [==============================] - 1s 2ms/step - loss: 0.6855 - accuracy: 0.7400 - val_loss: 1.2457 - val_accuracy: 0.6733\n"
          ]
        }
      ]
    },
    {
      "cell_type": "markdown",
      "metadata": {
        "id": "Q5yXki3b5E0s"
      },
      "source": [
        "b) Plot accuracies on training and test data against training epochs and\n",
        "comment on the plots."
      ]
    },
    {
      "cell_type": "code",
      "metadata": {
        "id": "DRfg8vyS5E0s",
        "colab": {
          "base_uri": "https://localhost:8080/",
          "height": 295
        },
        "outputId": "bd2ca945-fbc9-44b6-b838-43b07e959c50"
      },
      "source": [
        "question1.plot_model(\"accuracy\")"
      ],
      "execution_count": null,
      "outputs": [
        {
          "output_type": "display_data",
          "data": {
            "image/png": "[encoded data removed]",
            "text/plain": [
              "<Figure size 432x288 with 1 Axes>"
            ]
          },
          "metadata": {
            "needs_background": "light"
          }
        }
      ]
    },
    {
      "cell_type": "markdown",
      "metadata": {
        "id": "fh-cImu05E0s"
      },
      "source": [
        "c) Plot the losses on training and test data against training epochs. State the approximate number of epochs where the test error begins to converge."
      ]
    },
    {
      "cell_type": "code",
      "metadata": {
        "id": "xPFwLuS05E0s",
        "colab": {
          "base_uri": "https://localhost:8080/",
          "height": 295
        },
        "outputId": "7c39a005-d043-491c-dc09-249cedeecaf0"
      },
      "source": [
        "question1.plot_model(\"loss\")"
      ],
      "execution_count": null,
      "outputs": [
        {
          "output_type": "display_data",
          "data": {
            "image/png": "[encoded data removed]",
            "text/plain": [
              "<Figure size 432x288 with 1 Axes>"
            ]
          },
          "metadata": {
            "needs_background": "light"
          }
        }
      ]
    },
    {
      "cell_type": "markdown",
      "metadata": {
        "id": "YhmTmiXD5E0t"
      },
      "source": [
        "# Question 2\n",
        "\n",
        "In this question, we will compare the performance of the model using stochastic gradient descent and mini-batch gradient descent, as well as determining the optimal batch size for mini-batch gradient descent. Find the optimal batch size for mini-batch gradient descent by training the neural network and evaluating the performances for different batch sizes. Note: Use 3-fold cross-validation on training partition to perform parameter selection."
      ]
    },
    {
      "cell_type": "code",
      "metadata": {
        "id": "ql3e3Drw5E0t"
      },
      "source": [
        "class TimeTakenPerEpochCallback(tf.keras.callbacks.Callback):\n",
        "\n",
        "    def __init__(self):\n",
        "        self.times = []\n",
        "\n",
        "    def on_epoch_begin(self, epoch, logs=None):\n",
        "        self.epoch_begin_time = time.time()\n",
        "\n",
        "    def on_epoch_end(self, epoch, logs=None):\n",
        "        self.times.append(time.time() - self.epoch_begin_time)\n",
        "\n",
        "\n",
        "class Question2():\n",
        "\n",
        "    def __init__(self, X_train, y_train, X_test, y_test, epochs=50, num_hidden_neurons=16, batch_size=1,\n",
        "                 num_experiments=10):\n",
        "        self.epochs = epochs\n",
        "        self.num_hidden_neurons = num_hidden_neurons\n",
        "        self.batch_size = batch_size\n",
        "        self.num_experiments = num_experiments\n",
        "        self.batch_sizes = [1, 4, 8, 16, 32, 64]\n",
        "        self.num_folds = 3\n",
        "        self.seed = 0\n",
        "        self.history = None\n",
        "\n",
        "        self.X_train = X_train\n",
        "        self.y_train = y_train\n",
        "        self.X_test = X_test\n",
        "        self.y_test = y_test\n",
        "\n",
        "        np.random.seed(self.seed)\n",
        "        tf.random.set_seed(self.seed)\n",
        "\n",
        "    def create_model(self, num_hidden_neurons=None):\n",
        "        # create the model\n",
        "        num_hidden_neurons = num_hidden_neurons or self.num_hidden_neurons\n",
        "        self.model = tf.keras.Sequential([\n",
        "            tf.keras.layers.Dense(units=num_hidden_neurons, activation=\"relu\"),\n",
        "            tf.keras.layers.Dropout(rate=0.3, seed=self.seed),\n",
        "            tf.keras.layers.Dense(units=10, activation=\"softmax\")\n",
        "        ])\n",
        "\n",
        "        self.model.compile(optimizer=\"adam\",\n",
        "                           loss=\"sparse_categorical_crossentropy\",\n",
        "                           metrics=[\"accuracy\"])\n",
        "\n",
        "    def cross_validate_run_experiment(self, experiment_X_train, experiment_y_train):\n",
        "        size_fold = len(experiment_X_train) // self.num_folds\n",
        "        # experiment_accuracy maps batch_size_key -> num_fold_key -> epoch_key -> val_accuracy\n",
        "        experiment_accuracy = {}\n",
        "        # experiment_time maps batch_size_key -> num_fold_key -> time_taken_list\n",
        "        experiment_time = {}\n",
        "\n",
        "        for num_fold in range(self.num_folds):\n",
        "            start, end = num_fold * size_fold, (num_fold + 1) * size_fold\n",
        "            cv_X_train = np.append(experiment_X_train[:start], experiment_X_train[end:], axis=0)\n",
        "            cv_y_train = np.append(experiment_y_train[:start], experiment_y_train[end:], axis=0)\n",
        "            cv_X_test, cv_y_test = experiment_X_train[start:end], experiment_y_train[start:end]\n",
        "\n",
        "            for batch_size in self.batch_sizes:\n",
        "\n",
        "                cv_model = tf.keras.Sequential([\n",
        "                    tf.keras.layers.Dense(units=self.num_hidden_neurons, activation=\"relu\"),\n",
        "                    tf.keras.layers.Dropout(rate=0.3, seed=self.seed),\n",
        "                    tf.keras.layers.Dense(units=10, activation=\"softmax\")\n",
        "                ])\n",
        "\n",
        "                cv_model.compile(optimizer=\"adam\",\n",
        "                                 loss=\"sparse_categorical_crossentropy\",\n",
        "                                 metrics=[\"accuracy\"])\n",
        "\n",
        "                callback = TimeTakenPerEpochCallback()\n",
        "\n",
        "                cv_history = cv_model.fit(x=cv_X_train, y=cv_y_train,\n",
        "                                          batch_size=batch_size,\n",
        "                                          epochs=self.epochs,\n",
        "                                          verbose=0,\n",
        "                                          callbacks=[callback],\n",
        "                                          validation_data=(cv_X_test, cv_y_test))\n",
        "\n",
        "                batch_size_key = \"batch_size: {}\".format(batch_size)\n",
        "                num_fold_key = \"num_fold: {}\".format(num_fold)\n",
        "\n",
        "                # populate experiment_result\n",
        "                if not experiment_accuracy.get(batch_size_key):\n",
        "                    experiment_accuracy[batch_size_key] = {}\n",
        "                if not experiment_accuracy[batch_size_key].get(num_fold_key):\n",
        "                    experiment_accuracy[batch_size_key][num_fold_key] = {}\n",
        "\n",
        "                for epoch, val_accuracy in enumerate(cv_history.history[\"val_accuracy\"]):\n",
        "                    epoch_key = \"epoch: {}\".format(epoch)\n",
        "                    experiment_accuracy[batch_size_key][num_fold_key][epoch_key] = val_accuracy\n",
        "\n",
        "                # populate experiment_time\n",
        "                if not experiment_time.get(batch_size_key):\n",
        "                    experiment_time[batch_size_key] = {}\n",
        "\n",
        "                experiment_time[batch_size_key][num_fold_key] = callback.times\n",
        "\n",
        "        return (experiment_accuracy, experiment_time)\n",
        "\n",
        "    def cross_validate_model(self):\n",
        "        size_X_train = len(self.X_train)\n",
        "        index = np.arange(size_X_train)\n",
        "        # experiment_accuracies maps experiment_key -> batch_size_key -> num_fold_key -> epoch_key -> val_accuracy\n",
        "        experiment_accuracies = {}\n",
        "        # experiment_times maps experiment_key -> batch_size_key -> num_fold_key -> time_taken_per_epoch_list\n",
        "        experiment_times = {}\n",
        "\n",
        "        for experiment in range(self.num_experiments):\n",
        "            np.random.shuffle(index)\n",
        "            experiment_X_train, experiment_y_train = self.X_train[index], self.y_train[index]\n",
        "            experiment_accuracy, experiment_time = self.cross_validate_run_experiment(experiment_X_train,\n",
        "                                                                                      experiment_y_train)\n",
        "            experiment_key = \"experiment: {}\".format(experiment)\n",
        "            experiment_accuracies[experiment_key] = experiment_accuracy\n",
        "            experiment_times[experiment_key] = experiment_time\n",
        "\n",
        "        experiment_mean_accuracies = self.cross_validate_get_experiment_mean_accuracies(experiment_accuracies)\n",
        "        self.mean_of_experiment_mean_accuracies = self.cross_validate_get_mean_of_experiment_mean_accuracies(\n",
        "            experiment_mean_accuracies)\n",
        "\n",
        "        self.experiment_median_times = self.cross_validate_get_median_of_experiment_times(experiment_times)\n",
        "\n",
        "    def get_mean_of_experiment_mean_accuracies(self):\n",
        "        return self.mean_of_experiment_mean_accuracies\n",
        "\n",
        "    def get_experiment_median_times(self):\n",
        "        return self.experiment_median_times\n",
        "\n",
        "    @staticmethod\n",
        "    def cross_validate_get_experiment_mean_accuracies(experiment_accuracies):\n",
        "        # experiment_mean_accuracies maps experiment_key -> batch_size_key -> epoch -> mean_val_accuracy\n",
        "        experiment_mean_accuracies = {}\n",
        "\n",
        "        for experiment_key in experiment_accuracies.keys():\n",
        "            # experiment_accuracy maps batch_size_key -> num_fold_key -> epoch_key -> val_accuracy\n",
        "            experiment_accuracy = experiment_accuracies[experiment_key]\n",
        "            # experiment_mean_accuracy maps batch_size_key -> epoch_key -> mean_val_accuracy\n",
        "            experiment_mean_accuracy = {}\n",
        "\n",
        "            for batch_size_key in experiment_accuracy.keys():\n",
        "                if not experiment_mean_accuracy.get(batch_size_key):\n",
        "                    experiment_mean_accuracy[batch_size_key] = {}\n",
        "                for num_fold_key in experiment_accuracy[batch_size_key].keys():\n",
        "                    for epoch_key, val_accuracy in experiment_accuracy[batch_size_key][num_fold_key].items():\n",
        "                        if not experiment_mean_accuracy[batch_size_key].get(epoch_key):\n",
        "                            experiment_mean_accuracy[batch_size_key][epoch_key] = []\n",
        "                        experiment_mean_accuracy[batch_size_key][epoch_key].append(val_accuracy)\n",
        "\n",
        "            for batch_size_key in experiment_mean_accuracy.keys():\n",
        "                for epoch_key in experiment_mean_accuracy[batch_size_key].keys():\n",
        "                    experiment_mean_accuracy[batch_size_key][epoch_key] = np.mean(\n",
        "                        experiment_mean_accuracy[batch_size_key][epoch_key])\n",
        "\n",
        "            experiment_mean_accuracies[experiment_key] = experiment_mean_accuracy\n",
        "\n",
        "        return experiment_mean_accuracies\n",
        "\n",
        "    @staticmethod\n",
        "    def cross_validate_get_mean_of_experiment_mean_accuracies(experiment_mean_accuracies):\n",
        "        # mean_of_experiment_mean_accuracies maps batch_size_key -> epoch -> mean_of_mean_val_accuracy\n",
        "        mean_of_experiment_mean_accuracies = {}\n",
        "\n",
        "        for experiment_key in experiment_mean_accuracies.keys():\n",
        "            # experiment_mean_accuracy maps batch_size_key -> epoch_key -> mean_val_accuracy\n",
        "            experiment_mean_accuracy = experiment_mean_accuracies[experiment_key]\n",
        "\n",
        "            for batch_size_key in experiment_mean_accuracy.keys():\n",
        "                if not mean_of_experiment_mean_accuracies.get(batch_size_key):\n",
        "                    mean_of_experiment_mean_accuracies[batch_size_key] = {}\n",
        "                for epoch_key, mean_val_accuracy in experiment_mean_accuracy[batch_size_key].items():\n",
        "                    if not mean_of_experiment_mean_accuracies[batch_size_key].get(epoch_key):\n",
        "                        mean_of_experiment_mean_accuracies[batch_size_key][epoch_key] = []\n",
        "                    mean_of_experiment_mean_accuracies[batch_size_key][epoch_key].append(mean_val_accuracy)\n",
        "\n",
        "        for batch_size_key in mean_of_experiment_mean_accuracies.keys():\n",
        "            for epoch_key in experiment_mean_accuracy[batch_size_key].keys():\n",
        "                mean_of_experiment_mean_accuracies[batch_size_key][epoch_key] = np.mean(\n",
        "                    mean_of_experiment_mean_accuracies[batch_size_key][epoch_key])\n",
        "\n",
        "        return mean_of_experiment_mean_accuracies\n",
        "\n",
        "    @staticmethod\n",
        "    def cross_validate_get_median_of_experiment_times(experiment_times):\n",
        "        # experiment_median_times maps batch_size_key -> median_time_taken_per_epoch\n",
        "        experiment_median_times = {}\n",
        "\n",
        "        for experiment_key in experiment_times.keys():\n",
        "            # experiment_time maps batch_size_key -> num_fold_key -> time_taken_per_epoch_list\n",
        "            experiment_time = experiment_times[experiment_key]\n",
        "\n",
        "            for batch_size_key in experiment_time.keys():\n",
        "                for num_fold_key in experiment_time[batch_size_key]:\n",
        "                    if not experiment_median_times.get(batch_size_key):\n",
        "                        experiment_median_times[batch_size_key] = []\n",
        "\n",
        "                    experiment_median_times[batch_size_key].extend(experiment_time[batch_size_key][num_fold_key])\n",
        "\n",
        "        for batch_size_key in experiment_median_times.keys():\n",
        "            experiment_median_times[batch_size_key] = np.median(\n",
        "                experiment_median_times[batch_size_key])\n",
        "\n",
        "        return experiment_median_times\n",
        "\n",
        "    def summarize_model(self):\n",
        "        # summarize the model\n",
        "        print(self.model.summary())\n",
        "\n",
        "    def train_model(self, batch_size=None):\n",
        "        # train the model\n",
        "        batch_size = batch_size or self.batch_size\n",
        "        self.history = self.model.fit(x=self.X_train, y=self.y_train,\n",
        "                                      batch_size=batch_size,\n",
        "                                      epochs=self.epochs,\n",
        "                                      verbose=1,\n",
        "                                      validation_data=(self.X_test, self.y_test))\n",
        "\n",
        "    def plot_model(self, variable=\"loss\", epoch_start=1, epoch_end=None):\n",
        "        # plot learning curves\n",
        "        train_epochs = self.history.history[variable][epoch_start - 1:epoch_end]\n",
        "        val_epochs = self.history.history[\"val_{}\".format(variable)][epoch_start - 1:epoch_end]\n",
        "        number_epochs = len(self.history.history[variable][epoch_start - 1:epoch_end])\n",
        "\n",
        "        plt.plot(range(epoch_start, epoch_start + number_epochs), train_epochs,\n",
        "                 label=\"Model training {}\".format(variable))\n",
        "        plt.plot(range(epoch_start, epoch_start + number_epochs), val_epochs, label=\"Model test {}\".format(variable))\n",
        "        plt.title(\"Model {}\".format(variable))\n",
        "        plt.ylabel(\"{}\".format(variable))\n",
        "        plt.xlabel(\"epoch\")\n",
        "        plt.legend(loc=\"best\")\n",
        "        plt.show()\n",
        "\n",
        "    def cross_validate_plot_results(self, epoch_start=1, epoch_end=None):\n",
        "        for batch_size_key in self.mean_of_experiment_mean_accuracies.keys():\n",
        "            val_epochs = [self.mean_of_experiment_mean_accuracies[batch_size_key][\"epoch: {}\".format(epoch)] for epoch\n",
        "                          in range(self.epochs)][epoch_start-1:epoch_end]\n",
        "            number_epochs = len(val_epochs)\n",
        "            plt.plot(range(epoch_start, epoch_start + number_epochs), val_epochs, label=batch_size_key)\n",
        "\n",
        "        plt.title(\"Model mean cross-validation accuracy\")\n",
        "        plt.ylabel(\"mean cross-validation accuracy\")\n",
        "        plt.xlabel(\"epoch\")\n",
        "        plt.legend(loc=\"best\")\n",
        "        plt.show()"
      ],
      "execution_count": null,
      "outputs": []
    },
    {
      "cell_type": "markdown",
      "metadata": {
        "id": "oYUtH24A5E0w"
      },
      "source": [
        "a) Plot mean cross-validation accuracies over the training epochs for different batch sizes. Limit search space to batch sizes {1,4,8,16,32,64}."
      ]
    },
    {
      "cell_type": "code",
      "metadata": {
        "id": "EfugskR75E0x",
        "scrolled": true
      },
      "source": [
        "question2 = Question2(X_train, y_train, X_test, y_test)\n",
        "question2.cross_validate_model()\n",
        "mean_of_experiment_mean_accuracies = question2.get_mean_of_experiment_mean_accuracies()"
      ],
      "execution_count": null,
      "outputs": []
    },
    {
      "cell_type": "code",
      "metadata": {
        "id": "seMXVyLJ5E0x",
        "colab": {
          "base_uri": "https://localhost:8080/",
          "height": 295
        },
        "outputId": "9d50c367-3a77-4dae-807c-a4d54c9faac5"
      },
      "source": [
        "question2.cross_validate_plot_results()"
      ],
      "execution_count": null,
      "outputs": [
        {
          "output_type": "display_data",
          "data": {
            "image/png": "[encoded data removed]",
            "text/plain": [
              "<Figure size 432x288 with 1 Axes>"
            ]
          },
          "metadata": {
            "needs_background": "light"
          }
        }
      ]
    },
    {
      "cell_type": "code",
      "metadata": {
        "id": "PNZPXHsAepqR",
        "colab": {
          "base_uri": "https://localhost:8080/",
          "height": 295
        },
        "outputId": "ee19b93f-254d-411a-9972-a1e1aa762f8a"
      },
      "source": [
        "question2.cross_validate_plot_results(epoch_start=40)"
      ],
      "execution_count": null,
      "outputs": [
        {
          "output_type": "display_data",
          "data": {
            "image/png": "[encoded data removed]",
            "text/plain": [
              "<Figure size 432x288 with 1 Axes>"
            ]
          },
          "metadata": {
            "needs_background": "light"
          }
        }
      ]
    },
    {
      "cell_type": "code",
      "metadata": {
        "id": "AZqwmQhJ5E0y",
        "colab": {
          "base_uri": "https://localhost:8080/"
        },
        "outputId": "9fdcc746-46b9-452a-f90b-a0d5600d1b0d"
      },
      "source": [
        "print(\"\\n\".join(\"{}\\t{}\".format(k, v[\"epoch: {}\".format(question2.epochs - 1)]) for k, v in\n",
        "                mean_of_experiment_mean_accuracies.items()))\n",
        "\n",
        "optimal_batch_size = None\n",
        "optimal_batch_size_experiment_value = None\n",
        "\n",
        "for batch_size_key in mean_of_experiment_mean_accuracies.keys():\n",
        "    epoch_key = \"epoch: {}\".format(question2.epochs - 1)\n",
        "    if not optimal_batch_size_experiment_value or mean_of_experiment_mean_accuracies[batch_size_key][\n",
        "        epoch_key] > optimal_batch_size_experiment_value:\n",
        "        optimal_batch_size_experiment_value = mean_of_experiment_mean_accuracies[batch_size_key][epoch_key]\n",
        "        optimal_batch_size = int(batch_size_key.split(\": \")[-1])"
      ],
      "execution_count": null,
      "outputs": [
        {
          "output_type": "stream",
          "name": "stdout",
          "text": [
            "batch_size: 1\t0.6507868409156798\n",
            "batch_size: 4\t0.6513590852419535\n",
            "batch_size: 8\t0.6440629442532857\n",
            "batch_size: 16\t0.6234620928764343\n",
            "batch_size: 32\t0.6030042906602223\n",
            "batch_size: 64\t0.5463519304990768\n"
          ]
        }
      ]
    },
    {
      "cell_type": "markdown",
      "metadata": {
        "id": "CvVa6yE55E0y"
      },
      "source": [
        "b) Create a table of median time taken to train the network for one epoch against different batch sizes. (Hint: Introduce a callback)"
      ]
    },
    {
      "cell_type": "code",
      "metadata": {
        "id": "pGdYIbwh5E0y",
        "colab": {
          "base_uri": "https://localhost:8080/"
        },
        "outputId": "521b8e26-cf75-4170-8363-ae1cfa668ffc"
      },
      "source": [
        "experiment_median_times = question2.get_experiment_median_times()\n",
        "print(\"\\n\".join(\"{}\\t{}\".format(k, v) for k, v in experiment_median_times.items()))"
      ],
      "execution_count": null,
      "outputs": [
        {
          "output_type": "stream",
          "name": "stdout",
          "text": [
            "batch_size: 1\t0.764892578125\n",
            "batch_size: 4\t0.19536209106445312\n",
            "batch_size: 8\t0.13433635234832764\n",
            "batch_size: 16\t0.0662766695022583\n",
            "batch_size: 32\t0.04663848876953125\n",
            "batch_size: 64\t0.02917182445526123\n"
          ]
        }
      ]
    },
    {
      "cell_type": "markdown",
      "metadata": {
        "id": "a08IMbIe5E0y"
      },
      "source": [
        "c) Select the optimal batch size and state reasons for your selection."
      ]
    },
    {
      "cell_type": "markdown",
      "metadata": {
        "id": "MAXJ2Bm-5E0y"
      },
      "source": [
        "d) What is the difference between mini-batch gradient descent and stochastic gradient descent and what does this mean for model training?"
      ]
    },
    {
      "cell_type": "markdown",
      "metadata": {
        "id": "Rqp73WF45E0y"
      },
      "source": [
        "e) Plot the train and test accuracies against epochs for the optimal batch size. "
      ]
    },
    {
      "cell_type": "code",
      "metadata": {
        "id": "bm6F5Ond5E0y",
        "colab": {
          "base_uri": "https://localhost:8080/"
        },
        "outputId": "854df3aa-04d6-47bf-9185-480f1daa9fe2"
      },
      "source": [
        "print(optimal_batch_size)"
      ],
      "execution_count": null,
      "outputs": [
        {
          "output_type": "stream",
          "name": "stdout",
          "text": [
            "4\n"
          ]
        }
      ]
    },
    {
      "cell_type": "code",
      "metadata": {
        "id": "jKewTVMU5E0y",
        "scrolled": true,
        "colab": {
          "base_uri": "https://localhost:8080/"
        },
        "outputId": "0dbc719d-fb5f-47ab-8416-164785a354fd"
      },
      "source": [
        "question2.create_model()\n",
        "question2.train_model(batch_size=optimal_batch_size)"
      ],
      "execution_count": null,
      "outputs": [
        {
          "output_type": "stream",
          "name": "stdout",
          "text": [
            "Epoch 1/50\n",
            "175/175 [==============================] - 1s 4ms/step - loss: 2.3759 - accuracy: 0.1700 - val_loss: 2.0248 - val_accuracy: 0.2633\n",
            "Epoch 2/50\n",
            "175/175 [==============================] - 0s 2ms/step - loss: 1.9618 - accuracy: 0.2914 - val_loss: 1.7929 - val_accuracy: 0.3767\n",
            "Epoch 3/50\n",
            "175/175 [==============================] - 0s 2ms/step - loss: 1.7680 - accuracy: 0.3586 - val_loss: 1.6461 - val_accuracy: 0.4300\n",
            "Epoch 4/50\n",
            "175/175 [==============================] - 0s 2ms/step - loss: 1.5935 - accuracy: 0.4386 - val_loss: 1.5382 - val_accuracy: 0.4567\n",
            "Epoch 5/50\n",
            "175/175 [==============================] - 0s 2ms/step - loss: 1.5162 - accuracy: 0.4786 - val_loss: 1.4608 - val_accuracy: 0.4767\n",
            "Epoch 6/50\n",
            "175/175 [==============================] - 0s 2ms/step - loss: 1.4178 - accuracy: 0.4986 - val_loss: 1.4105 - val_accuracy: 0.4967\n",
            "Epoch 7/50\n",
            "175/175 [==============================] - 0s 2ms/step - loss: 1.3923 - accuracy: 0.5214 - val_loss: 1.3600 - val_accuracy: 0.5100\n",
            "Epoch 8/50\n",
            "175/175 [==============================] - 0s 2ms/step - loss: 1.3237 - accuracy: 0.5071 - val_loss: 1.3154 - val_accuracy: 0.5200\n",
            "Epoch 9/50\n",
            "175/175 [==============================] - 0s 2ms/step - loss: 1.2664 - accuracy: 0.5586 - val_loss: 1.2853 - val_accuracy: 0.5400\n",
            "Epoch 10/50\n",
            "175/175 [==============================] - 0s 3ms/step - loss: 1.2496 - accuracy: 0.5614 - val_loss: 1.2650 - val_accuracy: 0.5500\n",
            "Epoch 11/50\n",
            "175/175 [==============================] - 0s 2ms/step - loss: 1.2258 - accuracy: 0.5514 - val_loss: 1.2339 - val_accuracy: 0.5700\n",
            "Epoch 12/50\n",
            "175/175 [==============================] - 0s 2ms/step - loss: 1.1395 - accuracy: 0.5900 - val_loss: 1.2085 - val_accuracy: 0.5567\n",
            "Epoch 13/50\n",
            "175/175 [==============================] - 0s 2ms/step - loss: 1.1588 - accuracy: 0.5829 - val_loss: 1.1909 - val_accuracy: 0.5967\n",
            "Epoch 14/50\n",
            "175/175 [==============================] - 0s 2ms/step - loss: 1.1393 - accuracy: 0.5871 - val_loss: 1.1687 - val_accuracy: 0.5867\n",
            "Epoch 15/50\n",
            "175/175 [==============================] - 0s 2ms/step - loss: 1.0893 - accuracy: 0.6014 - val_loss: 1.1456 - val_accuracy: 0.6000\n",
            "Epoch 16/50\n",
            "175/175 [==============================] - 0s 2ms/step - loss: 1.0789 - accuracy: 0.6157 - val_loss: 1.1414 - val_accuracy: 0.6033\n",
            "Epoch 17/50\n",
            "175/175 [==============================] - 0s 2ms/step - loss: 1.0406 - accuracy: 0.6100 - val_loss: 1.1234 - val_accuracy: 0.5967\n",
            "Epoch 18/50\n",
            "175/175 [==============================] - 0s 2ms/step - loss: 1.0519 - accuracy: 0.6171 - val_loss: 1.1133 - val_accuracy: 0.6167\n",
            "Epoch 19/50\n",
            "175/175 [==============================] - 0s 2ms/step - loss: 1.0443 - accuracy: 0.6157 - val_loss: 1.1102 - val_accuracy: 0.6033\n",
            "Epoch 20/50\n",
            "175/175 [==============================] - 0s 2ms/step - loss: 0.9971 - accuracy: 0.6529 - val_loss: 1.1019 - val_accuracy: 0.6100\n",
            "Epoch 21/50\n",
            "175/175 [==============================] - 0s 2ms/step - loss: 0.9954 - accuracy: 0.6157 - val_loss: 1.0865 - val_accuracy: 0.6133\n",
            "Epoch 22/50\n",
            "175/175 [==============================] - 0s 2ms/step - loss: 0.9769 - accuracy: 0.6571 - val_loss: 1.0816 - val_accuracy: 0.6133\n",
            "Epoch 23/50\n",
            "175/175 [==============================] - 0s 2ms/step - loss: 1.0180 - accuracy: 0.6314 - val_loss: 1.0819 - val_accuracy: 0.6100\n",
            "Epoch 24/50\n",
            "175/175 [==============================] - 0s 2ms/step - loss: 0.9183 - accuracy: 0.6757 - val_loss: 1.0725 - val_accuracy: 0.6000\n",
            "Epoch 25/50\n",
            "175/175 [==============================] - 0s 2ms/step - loss: 0.9842 - accuracy: 0.6286 - val_loss: 1.0758 - val_accuracy: 0.6067\n",
            "Epoch 26/50\n",
            "175/175 [==============================] - 0s 2ms/step - loss: 0.9255 - accuracy: 0.6671 - val_loss: 1.0692 - val_accuracy: 0.6267\n",
            "Epoch 27/50\n",
            "175/175 [==============================] - 0s 2ms/step - loss: 0.9932 - accuracy: 0.6486 - val_loss: 1.0591 - val_accuracy: 0.6233\n",
            "Epoch 28/50\n",
            "175/175 [==============================] - 0s 2ms/step - loss: 0.9001 - accuracy: 0.6843 - val_loss: 1.0601 - val_accuracy: 0.6300\n",
            "Epoch 29/50\n",
            "175/175 [==============================] - 0s 2ms/step - loss: 0.9211 - accuracy: 0.6957 - val_loss: 1.0532 - val_accuracy: 0.6233\n",
            "Epoch 30/50\n",
            "175/175 [==============================] - 0s 2ms/step - loss: 0.8652 - accuracy: 0.6786 - val_loss: 1.0743 - val_accuracy: 0.6233\n",
            "Epoch 31/50\n",
            "175/175 [==============================] - 0s 2ms/step - loss: 0.8974 - accuracy: 0.6643 - val_loss: 1.0568 - val_accuracy: 0.6300\n",
            "Epoch 32/50\n",
            "175/175 [==============================] - 0s 2ms/step - loss: 0.8966 - accuracy: 0.6857 - val_loss: 1.0757 - val_accuracy: 0.6200\n",
            "Epoch 33/50\n",
            "175/175 [==============================] - 0s 2ms/step - loss: 0.9017 - accuracy: 0.6643 - val_loss: 1.0634 - val_accuracy: 0.6300\n",
            "Epoch 34/50\n",
            "175/175 [==============================] - 0s 2ms/step - loss: 0.8821 - accuracy: 0.6857 - val_loss: 1.0590 - val_accuracy: 0.6200\n",
            "Epoch 35/50\n",
            "175/175 [==============================] - 0s 2ms/step - loss: 0.8649 - accuracy: 0.6857 - val_loss: 1.0611 - val_accuracy: 0.6333\n",
            "Epoch 36/50\n",
            "175/175 [==============================] - 0s 2ms/step - loss: 0.8750 - accuracy: 0.6729 - val_loss: 1.0575 - val_accuracy: 0.6300\n",
            "Epoch 37/50\n",
            "175/175 [==============================] - 0s 3ms/step - loss: 0.8298 - accuracy: 0.6929 - val_loss: 1.0697 - val_accuracy: 0.6300\n",
            "Epoch 38/50\n",
            "175/175 [==============================] - 0s 2ms/step - loss: 0.8291 - accuracy: 0.7057 - val_loss: 1.0648 - val_accuracy: 0.6233\n",
            "Epoch 39/50\n",
            "175/175 [==============================] - 0s 2ms/step - loss: 0.8431 - accuracy: 0.6986 - val_loss: 1.0566 - val_accuracy: 0.6333\n",
            "Epoch 40/50\n",
            "175/175 [==============================] - 0s 2ms/step - loss: 0.8273 - accuracy: 0.6900 - val_loss: 1.0509 - val_accuracy: 0.6233\n",
            "Epoch 41/50\n",
            "175/175 [==============================] - 0s 2ms/step - loss: 0.8001 - accuracy: 0.7071 - val_loss: 1.0535 - val_accuracy: 0.6233\n",
            "Epoch 42/50\n",
            "175/175 [==============================] - 0s 2ms/step - loss: 0.8113 - accuracy: 0.6971 - val_loss: 1.0490 - val_accuracy: 0.6333\n",
            "Epoch 43/50\n",
            "175/175 [==============================] - 0s 2ms/step - loss: 0.7916 - accuracy: 0.7057 - val_loss: 1.0472 - val_accuracy: 0.6433\n",
            "Epoch 44/50\n",
            "175/175 [==============================] - 0s 2ms/step - loss: 0.7898 - accuracy: 0.7257 - val_loss: 1.0426 - val_accuracy: 0.6367\n",
            "Epoch 45/50\n",
            "175/175 [==============================] - 0s 2ms/step - loss: 0.7945 - accuracy: 0.7300 - val_loss: 1.0676 - val_accuracy: 0.6367\n",
            "Epoch 46/50\n",
            "175/175 [==============================] - 0s 2ms/step - loss: 0.7863 - accuracy: 0.7100 - val_loss: 1.0691 - val_accuracy: 0.6267\n",
            "Epoch 47/50\n",
            "175/175 [==============================] - 0s 2ms/step - loss: 0.7340 - accuracy: 0.7471 - val_loss: 1.0875 - val_accuracy: 0.6367\n",
            "Epoch 48/50\n",
            "175/175 [==============================] - 0s 2ms/step - loss: 0.7494 - accuracy: 0.7171 - val_loss: 1.0831 - val_accuracy: 0.6600\n",
            "Epoch 49/50\n",
            "175/175 [==============================] - 0s 2ms/step - loss: 0.7724 - accuracy: 0.7043 - val_loss: 1.0882 - val_accuracy: 0.6400\n",
            "Epoch 50/50\n",
            "175/175 [==============================] - 0s 2ms/step - loss: 0.7348 - accuracy: 0.7486 - val_loss: 1.0800 - val_accuracy: 0.6400\n"
          ]
        }
      ]
    },
    {
      "cell_type": "code",
      "metadata": {
        "id": "BUT8QzC95E0z",
        "colab": {
          "base_uri": "https://localhost:8080/",
          "height": 295
        },
        "outputId": "a0f174c1-2b3a-451a-bf83-95754f7be607"
      },
      "source": [
        "question2.plot_model(\"accuracy\")"
      ],
      "execution_count": null,
      "outputs": [
        {
          "output_type": "display_data",
          "data": {
            "image/png": "[encoded data removed]",
            "text/plain": [
              "<Figure size 432x288 with 1 Axes>"
            ]
          },
          "metadata": {
            "needs_background": "light"
          }
        }
      ]
    },
    {
      "cell_type": "markdown",
      "metadata": {
        "id": "B4vXG2dv5E0z"
      },
      "source": [
        "# Question 3\n",
        "Find the optimal number of hidden neurons for the 2-layer network (i.e., one hidden layer) designed in Question 1 and 2."
      ]
    },
    {
      "cell_type": "code",
      "metadata": {
        "id": "JL6DBXaJ5E0z"
      },
      "source": [
        "class Question3():\n",
        "\n",
        "    def __init__(self, X_train, y_train, X_test, y_test, epochs=50, num_hidden_neurons=16, batch_size=1,\n",
        "                 num_experiments=10):\n",
        "        self.epochs = epochs\n",
        "        self.num_hidden_neurons = num_hidden_neurons\n",
        "        self.batch_size = batch_size\n",
        "        self.num_experiments = num_experiments\n",
        "        self.num_hidden_neurons_list = [8, 16, 32, 64]\n",
        "        self.num_folds = 3\n",
        "        self.seed = 0\n",
        "        self.history = None\n",
        "\n",
        "        self.X_train = X_train\n",
        "        self.y_train = y_train\n",
        "        self.X_test = X_test\n",
        "        self.y_test = y_test\n",
        "\n",
        "        np.random.seed(self.seed)\n",
        "        tf.random.set_seed(self.seed)\n",
        "\n",
        "    def create_model(self, num_hidden_neurons=None):\n",
        "        # create the model\n",
        "        num_hidden_neurons = num_hidden_neurons or self.num_hidden_neurons\n",
        "        self.model = tf.keras.Sequential([\n",
        "            tf.keras.layers.Dense(units=num_hidden_neurons, activation=\"relu\"),\n",
        "            tf.keras.layers.Dropout(rate=0.3, seed=self.seed),\n",
        "            tf.keras.layers.Dense(units=10, activation=\"softmax\")\n",
        "        ])\n",
        "\n",
        "        self.model.compile(optimizer=\"adam\",\n",
        "                           loss=\"sparse_categorical_crossentropy\",\n",
        "                           metrics=[\"accuracy\"])\n",
        "\n",
        "    def cross_validate_run_experiment(self, experiment_X_train, experiment_y_train):\n",
        "        size_fold = len(experiment_X_train) // self.num_folds\n",
        "        # experiment_accuracy maps num_hidden_neurons_key -> num_fold_key -> epoch_key -> val_accuracy\n",
        "        experiment_accuracy = {}\n",
        "\n",
        "        for num_fold in range(self.num_folds):\n",
        "            start, end = num_fold * size_fold, (num_fold + 1) * size_fold\n",
        "            cv_X_train = np.append(experiment_X_train[:start], experiment_X_train[end:], axis=0)\n",
        "            cv_y_train = np.append(experiment_y_train[:start], experiment_y_train[end:], axis=0)\n",
        "            cv_X_test, cv_y_test = experiment_X_train[start:end], experiment_y_train[start:end]\n",
        "\n",
        "            for num_hidden_neurons in self.num_hidden_neurons_list:\n",
        "\n",
        "                cv_model = tf.keras.Sequential([\n",
        "                    tf.keras.layers.Dense(units=self.num_hidden_neurons, activation=\"relu\"),\n",
        "                    tf.keras.layers.Dropout(rate=0.3, seed=self.seed),\n",
        "                    tf.keras.layers.Dense(units=10, activation=\"softmax\")\n",
        "                ])\n",
        "\n",
        "                cv_model.compile(optimizer=\"adam\",\n",
        "                                 loss=\"sparse_categorical_crossentropy\",\n",
        "                                 metrics=[\"accuracy\"])\n",
        "\n",
        "                cv_history = cv_model.fit(x=cv_X_train, y=cv_y_train,\n",
        "                                          batch_size=self.batch_size,\n",
        "                                          epochs=self.epochs,\n",
        "                                          verbose=0,\n",
        "                                          validation_data=(cv_X_test, cv_y_test))\n",
        "\n",
        "                num_hidden_neurons_key = \"num_hidden_neurons: {}\".format(num_hidden_neurons)\n",
        "                num_fold_key = \"num_fold: {}\".format(num_fold)\n",
        "\n",
        "                # populate experiment_result\n",
        "                if not experiment_accuracy.get(num_hidden_neurons_key):\n",
        "                    experiment_accuracy[num_hidden_neurons_key] = {}\n",
        "                if not experiment_accuracy[num_hidden_neurons_key].get(num_fold_key):\n",
        "                    experiment_accuracy[num_hidden_neurons_key][num_fold_key] = {}\n",
        "\n",
        "                for epoch, val_accuracy in enumerate(cv_history.history[\"val_accuracy\"]):\n",
        "                    epoch_key = \"epoch: {}\".format(epoch)\n",
        "                    experiment_accuracy[num_hidden_neurons_key][num_fold_key][epoch_key] = val_accuracy\n",
        "\n",
        "        return experiment_accuracy\n",
        "\n",
        "    def cross_validate_model(self):\n",
        "        size_X_train = len(self.X_train)\n",
        "        index = np.arange(size_X_train)\n",
        "        # experiment_accuracies maps experiment_key -> num_hidden_neurons_key -> num_fold_key -> epoch_key -> val_accuracy\n",
        "        experiment_accuracies = {}\n",
        "\n",
        "        for experiment in range(self.num_experiments):\n",
        "            np.random.shuffle(index)\n",
        "            experiment_X_train, experiment_y_train = self.X_train[index], self.y_train[index]\n",
        "            experiment_accuracy = self.cross_validate_run_experiment(experiment_X_train, experiment_y_train)\n",
        "            experiment_key = \"experiment: {}\".format(experiment)\n",
        "            experiment_accuracies[experiment_key] = experiment_accuracy\n",
        "\n",
        "        experiment_mean_accuracies = self.cross_validate_get_experiment_mean_accuracies(experiment_accuracies)\n",
        "        self.mean_of_experiment_mean_accuracies = self.cross_validate_get_mean_of_experiment_mean_accuracies(\n",
        "            experiment_mean_accuracies)\n",
        "\n",
        "    def get_mean_of_experiment_mean_accuracies(self):\n",
        "        return self.mean_of_experiment_mean_accuracies\n",
        "\n",
        "    @staticmethod\n",
        "    def cross_validate_get_experiment_mean_accuracies(experiment_accuracies):\n",
        "        # experiment_mean_accuracies maps experiment_key -> num_hidden_neurons_key -> epoch -> mean_val_accuracy\n",
        "        experiment_mean_accuracies = {}\n",
        "\n",
        "        for experiment_key in experiment_accuracies.keys():\n",
        "            # experiment_accuracy maps num_hidden_neurons_key -> num_fold_key -> epoch_key -> val_accuracy\n",
        "            experiment_accuracy = experiment_accuracies[experiment_key]\n",
        "            # experiment_mean_accuracy maps num_hidden_neurons_key -> epoch_key -> mean_val_accuracy\n",
        "            experiment_mean_accuracy = {}\n",
        "\n",
        "            for num_hidden_neurons_key in experiment_accuracy.keys():\n",
        "                if not experiment_mean_accuracy.get(num_hidden_neurons_key):\n",
        "                    experiment_mean_accuracy[num_hidden_neurons_key] = {}\n",
        "                for num_fold_key in experiment_accuracy[num_hidden_neurons_key].keys():\n",
        "                    for epoch_key, val_accuracy in experiment_accuracy[num_hidden_neurons_key][num_fold_key].items():\n",
        "                        if not experiment_mean_accuracy[num_hidden_neurons_key].get(epoch_key):\n",
        "                            experiment_mean_accuracy[num_hidden_neurons_key][epoch_key] = []\n",
        "                        experiment_mean_accuracy[num_hidden_neurons_key][epoch_key].append(val_accuracy)\n",
        "\n",
        "            for num_hidden_neurons_key in experiment_mean_accuracy.keys():\n",
        "                for epoch_key in experiment_mean_accuracy[num_hidden_neurons_key].keys():\n",
        "                    experiment_mean_accuracy[num_hidden_neurons_key][epoch_key] = np.mean(\n",
        "                        experiment_mean_accuracy[num_hidden_neurons_key][epoch_key])\n",
        "\n",
        "            experiment_mean_accuracies[experiment_key] = experiment_mean_accuracy\n",
        "\n",
        "        return experiment_mean_accuracies\n",
        "\n",
        "    @staticmethod\n",
        "    def cross_validate_get_mean_of_experiment_mean_accuracies(experiment_mean_accuracies):\n",
        "        # mean_of_experiment_mean_accuracies maps num_hidden_neurons_key -> epoch -> mean_of_mean_val_accuracy\n",
        "        mean_of_experiment_mean_accuracies = {}\n",
        "\n",
        "        for experiment_key in experiment_mean_accuracies.keys():\n",
        "            # experiment_mean_accuracy maps num_hidden_neurons_key -> epoch_key -> mean_val_accuracy\n",
        "            experiment_mean_accuracy = experiment_mean_accuracies[experiment_key]\n",
        "\n",
        "            for num_hidden_neurons_key in experiment_mean_accuracy.keys():\n",
        "                if not mean_of_experiment_mean_accuracies.get(num_hidden_neurons_key):\n",
        "                    mean_of_experiment_mean_accuracies[num_hidden_neurons_key] = {}\n",
        "                for epoch_key, mean_val_accuracy in experiment_mean_accuracy[num_hidden_neurons_key].items():\n",
        "                    if not mean_of_experiment_mean_accuracies[num_hidden_neurons_key].get(epoch_key):\n",
        "                        mean_of_experiment_mean_accuracies[num_hidden_neurons_key][epoch_key] = []\n",
        "                    mean_of_experiment_mean_accuracies[num_hidden_neurons_key][epoch_key].append(mean_val_accuracy)\n",
        "\n",
        "        for num_hidden_neurons_key in mean_of_experiment_mean_accuracies.keys():\n",
        "            for epoch_key in experiment_mean_accuracy[num_hidden_neurons_key].keys():\n",
        "                mean_of_experiment_mean_accuracies[num_hidden_neurons_key][epoch_key] = np.mean(\n",
        "                    mean_of_experiment_mean_accuracies[num_hidden_neurons_key][epoch_key])\n",
        "\n",
        "        return mean_of_experiment_mean_accuracies\n",
        "\n",
        "    def summarize_model(self):\n",
        "        # summarize the model\n",
        "        print(self.model.summary())\n",
        "\n",
        "    def train_model(self, batch_size=None):\n",
        "        # train the model\n",
        "        batch_size = batch_size or self.batch_size\n",
        "        self.history = self.model.fit(x=self.X_train, y=self.y_train,\n",
        "                                      batch_size=batch_size,\n",
        "                                      epochs=self.epochs,\n",
        "                                      verbose=1,\n",
        "                                      validation_data=(self.X_test, self.y_test))\n",
        "\n",
        "    def plot_model(self, variable=\"loss\", epoch_start=1, epoch_end=None):\n",
        "        # plot learning curves\n",
        "        train_epochs = self.history.history[variable][epoch_start - 1:epoch_end]\n",
        "        val_epochs = self.history.history[\"val_{}\".format(variable)][epoch_start - 1:epoch_end]\n",
        "        number_epochs = len(self.history.history[variable][epoch_start - 1:epoch_end])\n",
        "\n",
        "        plt.plot(range(epoch_start, epoch_start + number_epochs), train_epochs,\n",
        "                 label=\"Model training {}\".format(variable))\n",
        "        plt.plot(range(epoch_start, epoch_start + number_epochs), val_epochs, label=\"Model test {}\".format(variable))\n",
        "        plt.title(\"Model {}\".format(variable))\n",
        "        plt.ylabel(\"{}\".format(variable))\n",
        "        plt.xlabel(\"epoch\")\n",
        "        plt.legend(loc=\"best\")\n",
        "        plt.show()\n",
        "    \n",
        "    def cross_validate_plot_results(self, epoch_start=1, epoch_end=None):\n",
        "        for num_hidden_neurons_key in self.mean_of_experiment_mean_accuracies.keys():\n",
        "            val_epochs = [self.mean_of_experiment_mean_accuracies[num_hidden_neurons_key][\"epoch: {}\".format(epoch)] for epoch\n",
        "                          in range(self.epochs)][epoch_start-1:epoch_end]\n",
        "            number_epochs = len(val_epochs)\n",
        "            plt.plot(range(epoch_start, epoch_start + number_epochs), val_epochs, label=num_hidden_neurons_key)\n",
        "\n",
        "        plt.title(\"Model mean cross-validation accuracy\")\n",
        "        plt.ylabel(\"mean cross-validation accuracy\")\n",
        "        plt.xlabel(\"epoch\")\n",
        "        plt.legend(loc=\"best\")\n",
        "        plt.show()"
      ],
      "execution_count": null,
      "outputs": []
    },
    {
      "cell_type": "markdown",
      "metadata": {
        "id": "8M8FtyQL5E0z"
      },
      "source": [
        "a) Plot the cross-validation accuracies against training epochs for different numbers of hidden-layer neurons. Limit the search space of the number of neurons to {8, 16, 32, 64}. Continue using 3-fold cross validation on training dataset."
      ]
    },
    {
      "cell_type": "code",
      "metadata": {
        "id": "tvKHjMsJ5E0z",
        "colab": {
          "base_uri": "https://localhost:8080/"
        },
        "outputId": "23d28d46-0ff4-425b-e817-ab5fd2811cff"
      },
      "source": [
        "print(optimal_batch_size)"
      ],
      "execution_count": null,
      "outputs": [
        {
          "output_type": "stream",
          "name": "stdout",
          "text": [
            "4\n"
          ]
        }
      ]
    },
    {
      "cell_type": "code",
      "metadata": {
        "id": "TT4fZw9c5E0z",
        "scrolled": true
      },
      "source": [
        "question3 = Question3(X_train, y_train, X_test, y_test, batch_size=optimal_batch_size)\n",
        "question3.cross_validate_model()\n",
        "mean_of_experiment_mean_accuracies = question3.get_mean_of_experiment_mean_accuracies()"
      ],
      "execution_count": null,
      "outputs": []
    },
    {
      "cell_type": "code",
      "metadata": {
        "id": "xd4NThZj5E0z",
        "colab": {
          "base_uri": "https://localhost:8080/",
          "height": 295
        },
        "outputId": "cecef2bb-8e10-46fa-a293-dcc99c78081e"
      },
      "source": [
        "question3.cross_validate_plot_results()"
      ],
      "execution_count": null,
      "outputs": [
        {
          "output_type": "display_data",
          "data": {
            "image/png": "[encoded data removed]",
            "text/plain": [
              "<Figure size 432x288 with 1 Axes>"
            ]
          },
          "metadata": {
            "needs_background": "light"
          }
        }
      ]
    },
    {
      "cell_type": "code",
      "metadata": {
        "id": "bgahKRL-fGJ9",
        "colab": {
          "base_uri": "https://localhost:8080/",
          "height": 295
        },
        "outputId": "b6098d5f-5b64-4356-9e99-090a5c8846b4"
      },
      "source": [
        "question3.cross_validate_plot_results(epoch_start=40)"
      ],
      "execution_count": null,
      "outputs": [
        {
          "output_type": "display_data",
          "data": {
            "image/png": "[encoded data removed]",
            "text/plain": [
              "<Figure size 432x288 with 1 Axes>"
            ]
          },
          "metadata": {
            "needs_background": "light"
          }
        }
      ]
    },
    {
      "cell_type": "code",
      "metadata": {
        "id": "jRjk-UcB5E00",
        "colab": {
          "base_uri": "https://localhost:8080/"
        },
        "outputId": "51e52d33-8871-4fbd-8722-eda954d0cdf4"
      },
      "source": [
        "print(\"\\n\".join(\"{}\\t{}\".format(k, v[\"epoch: {}\".format(question3.epochs - 1)]) for k, v in\n",
        "                mean_of_experiment_mean_accuracies.items()))\n",
        "\n",
        "optimal_num_hidden_neurons = None\n",
        "optimal_num_hidden_neurons_experiment_value = None\n",
        "\n",
        "for num_hidden_neurons_key in mean_of_experiment_mean_accuracies.keys():\n",
        "    epoch_key = \"epoch: {}\".format(question3.epochs - 1)\n",
        "    if not optimal_num_hidden_neurons_experiment_value or mean_of_experiment_mean_accuracies[num_hidden_neurons_key][\n",
        "        epoch_key] > optimal_num_hidden_neurons_experiment_value:\n",
        "        optimal_num_hidden_neurons_experiment_value = mean_of_experiment_mean_accuracies[num_hidden_neurons_key][\n",
        "            epoch_key]\n",
        "        optimal_num_hidden_neurons = int(num_hidden_neurons_key.split(\": \")[-1])"
      ],
      "execution_count": null,
      "outputs": [
        {
          "output_type": "stream",
          "name": "stdout",
          "text": [
            "num_hidden_neurons: 8\t0.6550786813100178\n",
            "num_hidden_neurons: 16\t0.6553648054599761\n",
            "num_hidden_neurons: 32\t0.6563662350177765\n",
            "num_hidden_neurons: 64\t0.6545064409573873\n"
          ]
        }
      ]
    },
    {
      "cell_type": "markdown",
      "metadata": {
        "id": "Ls8QhbmG5E00"
      },
      "source": [
        "b) Select the optimal number of neurons for the hidden layer. State the rationale for your selection."
      ]
    },
    {
      "cell_type": "markdown",
      "metadata": {
        "id": "MoGJo8-35E00"
      },
      "source": [
        "c) Plot the train and test accuracies against training epochs with the optimal number of neurons."
      ]
    },
    {
      "cell_type": "code",
      "metadata": {
        "id": "z9U0kXDw5E00",
        "colab": {
          "base_uri": "https://localhost:8080/"
        },
        "outputId": "bb5fe094-e264-4bef-df85-b5231fead87c"
      },
      "source": [
        "print(optimal_num_hidden_neurons)"
      ],
      "execution_count": null,
      "outputs": [
        {
          "output_type": "stream",
          "name": "stdout",
          "text": [
            "32\n"
          ]
        }
      ]
    },
    {
      "cell_type": "code",
      "metadata": {
        "id": "jMPLSna45E00",
        "colab": {
          "base_uri": "https://localhost:8080/"
        },
        "outputId": "83e7ae9f-b42e-4720-e017-ea9585e6fbde"
      },
      "source": [
        "question3.create_model(num_hidden_neurons=optimal_num_hidden_neurons)\n",
        "question3.train_model()"
      ],
      "execution_count": null,
      "outputs": [
        {
          "output_type": "stream",
          "name": "stdout",
          "text": [
            "Epoch 1/50\n",
            "175/175 [==============================] - 1s 3ms/step - loss: 2.3286 - accuracy: 0.2100 - val_loss: 1.7963 - val_accuracy: 0.3467\n",
            "Epoch 2/50\n",
            "175/175 [==============================] - 0s 2ms/step - loss: 1.7454 - accuracy: 0.3900 - val_loss: 1.5241 - val_accuracy: 0.4767\n",
            "Epoch 3/50\n",
            "175/175 [==============================] - 0s 2ms/step - loss: 1.5161 - accuracy: 0.4614 - val_loss: 1.3843 - val_accuracy: 0.5100\n",
            "Epoch 4/50\n",
            "175/175 [==============================] - 0s 2ms/step - loss: 1.3791 - accuracy: 0.5343 - val_loss: 1.3135 - val_accuracy: 0.5200\n",
            "Epoch 5/50\n",
            "175/175 [==============================] - 0s 2ms/step - loss: 1.2728 - accuracy: 0.5371 - val_loss: 1.2330 - val_accuracy: 0.5433\n",
            "Epoch 6/50\n",
            "175/175 [==============================] - 0s 2ms/step - loss: 1.1479 - accuracy: 0.5886 - val_loss: 1.1904 - val_accuracy: 0.5833\n",
            "Epoch 7/50\n",
            "175/175 [==============================] - 0s 2ms/step - loss: 1.0972 - accuracy: 0.6043 - val_loss: 1.1483 - val_accuracy: 0.5800\n",
            "Epoch 8/50\n",
            "175/175 [==============================] - 0s 2ms/step - loss: 1.0840 - accuracy: 0.6143 - val_loss: 1.1089 - val_accuracy: 0.5967\n",
            "Epoch 9/50\n",
            "175/175 [==============================] - 0s 2ms/step - loss: 1.0191 - accuracy: 0.6300 - val_loss: 1.0801 - val_accuracy: 0.6100\n",
            "Epoch 10/50\n",
            "175/175 [==============================] - 0s 2ms/step - loss: 0.9427 - accuracy: 0.6971 - val_loss: 1.0600 - val_accuracy: 0.6233\n",
            "Epoch 11/50\n",
            "175/175 [==============================] - 0s 2ms/step - loss: 0.9659 - accuracy: 0.6571 - val_loss: 1.0285 - val_accuracy: 0.6233\n",
            "Epoch 12/50\n",
            "175/175 [==============================] - 0s 2ms/step - loss: 0.9094 - accuracy: 0.6700 - val_loss: 1.0152 - val_accuracy: 0.6267\n",
            "Epoch 13/50\n",
            "175/175 [==============================] - 0s 2ms/step - loss: 0.8863 - accuracy: 0.6814 - val_loss: 1.0038 - val_accuracy: 0.6300\n",
            "Epoch 14/50\n",
            "175/175 [==============================] - 0s 2ms/step - loss: 0.7985 - accuracy: 0.7329 - val_loss: 0.9762 - val_accuracy: 0.6300\n",
            "Epoch 15/50\n",
            "175/175 [==============================] - 0s 2ms/step - loss: 0.7744 - accuracy: 0.7371 - val_loss: 0.9567 - val_accuracy: 0.6567\n",
            "Epoch 16/50\n",
            "175/175 [==============================] - 0s 2ms/step - loss: 0.7545 - accuracy: 0.7471 - val_loss: 0.9588 - val_accuracy: 0.6567\n",
            "Epoch 17/50\n",
            "175/175 [==============================] - 0s 2ms/step - loss: 0.7803 - accuracy: 0.7257 - val_loss: 0.9680 - val_accuracy: 0.6533\n",
            "Epoch 18/50\n",
            "175/175 [==============================] - 0s 2ms/step - loss: 0.7882 - accuracy: 0.7271 - val_loss: 0.9506 - val_accuracy: 0.6500\n",
            "Epoch 19/50\n",
            "175/175 [==============================] - 0s 2ms/step - loss: 0.7764 - accuracy: 0.7286 - val_loss: 0.9395 - val_accuracy: 0.6600\n",
            "Epoch 20/50\n",
            "175/175 [==============================] - 0s 2ms/step - loss: 0.7014 - accuracy: 0.7686 - val_loss: 0.9438 - val_accuracy: 0.6600\n",
            "Epoch 21/50\n",
            "175/175 [==============================] - 0s 2ms/step - loss: 0.7033 - accuracy: 0.7414 - val_loss: 0.9350 - val_accuracy: 0.6600\n",
            "Epoch 22/50\n",
            "175/175 [==============================] - 0s 2ms/step - loss: 0.6661 - accuracy: 0.7629 - val_loss: 0.9314 - val_accuracy: 0.6600\n",
            "Epoch 23/50\n",
            "175/175 [==============================] - 0s 2ms/step - loss: 0.6807 - accuracy: 0.7586 - val_loss: 0.9464 - val_accuracy: 0.6600\n",
            "Epoch 24/50\n",
            "175/175 [==============================] - 0s 2ms/step - loss: 0.6972 - accuracy: 0.7514 - val_loss: 0.9336 - val_accuracy: 0.6667\n",
            "Epoch 25/50\n",
            "175/175 [==============================] - 0s 2ms/step - loss: 0.6632 - accuracy: 0.7614 - val_loss: 0.9317 - val_accuracy: 0.6700\n",
            "Epoch 26/50\n",
            "175/175 [==============================] - 0s 2ms/step - loss: 0.6326 - accuracy: 0.7800 - val_loss: 0.9212 - val_accuracy: 0.6633\n",
            "Epoch 27/50\n",
            "175/175 [==============================] - 0s 2ms/step - loss: 0.6173 - accuracy: 0.7914 - val_loss: 0.9276 - val_accuracy: 0.6800\n",
            "Epoch 28/50\n",
            "175/175 [==============================] - 0s 2ms/step - loss: 0.6091 - accuracy: 0.7857 - val_loss: 0.9271 - val_accuracy: 0.6733\n",
            "Epoch 29/50\n",
            "175/175 [==============================] - 0s 2ms/step - loss: 0.6013 - accuracy: 0.7971 - val_loss: 0.9520 - val_accuracy: 0.6567\n",
            "Epoch 30/50\n",
            "175/175 [==============================] - 0s 2ms/step - loss: 0.6030 - accuracy: 0.7900 - val_loss: 0.9647 - val_accuracy: 0.6633\n",
            "Epoch 31/50\n",
            "175/175 [==============================] - 0s 2ms/step - loss: 0.6200 - accuracy: 0.7657 - val_loss: 0.9260 - val_accuracy: 0.6667\n",
            "Epoch 32/50\n",
            "175/175 [==============================] - 0s 2ms/step - loss: 0.5837 - accuracy: 0.7814 - val_loss: 0.9444 - val_accuracy: 0.6567\n",
            "Epoch 33/50\n",
            "175/175 [==============================] - 0s 2ms/step - loss: 0.5362 - accuracy: 0.8114 - val_loss: 0.9413 - val_accuracy: 0.6767\n",
            "Epoch 34/50\n",
            "175/175 [==============================] - 0s 2ms/step - loss: 0.5875 - accuracy: 0.8100 - val_loss: 0.9357 - val_accuracy: 0.6767\n",
            "Epoch 35/50\n",
            "175/175 [==============================] - 0s 2ms/step - loss: 0.5346 - accuracy: 0.8086 - val_loss: 0.9446 - val_accuracy: 0.6800\n",
            "Epoch 36/50\n",
            "175/175 [==============================] - 0s 2ms/step - loss: 0.5225 - accuracy: 0.8200 - val_loss: 0.9382 - val_accuracy: 0.6767\n",
            "Epoch 37/50\n",
            "175/175 [==============================] - 0s 2ms/step - loss: 0.5345 - accuracy: 0.8157 - val_loss: 0.9519 - val_accuracy: 0.6700\n",
            "Epoch 38/50\n",
            "175/175 [==============================] - 0s 2ms/step - loss: 0.5347 - accuracy: 0.8157 - val_loss: 0.9502 - val_accuracy: 0.6900\n",
            "Epoch 39/50\n",
            "175/175 [==============================] - 0s 2ms/step - loss: 0.5359 - accuracy: 0.7871 - val_loss: 0.9725 - val_accuracy: 0.6833\n",
            "Epoch 40/50\n",
            "175/175 [==============================] - 0s 2ms/step - loss: 0.5125 - accuracy: 0.8214 - val_loss: 0.9377 - val_accuracy: 0.6733\n",
            "Epoch 41/50\n",
            "175/175 [==============================] - 0s 2ms/step - loss: 0.5112 - accuracy: 0.8086 - val_loss: 0.9435 - val_accuracy: 0.6700\n",
            "Epoch 42/50\n",
            "175/175 [==============================] - 0s 2ms/step - loss: 0.4997 - accuracy: 0.8300 - val_loss: 0.9472 - val_accuracy: 0.6800\n",
            "Epoch 43/50\n",
            "175/175 [==============================] - 0s 2ms/step - loss: 0.4990 - accuracy: 0.8214 - val_loss: 0.9484 - val_accuracy: 0.6967\n",
            "Epoch 44/50\n",
            "175/175 [==============================] - 0s 2ms/step - loss: 0.5049 - accuracy: 0.8186 - val_loss: 0.9612 - val_accuracy: 0.6900\n",
            "Epoch 45/50\n",
            "175/175 [==============================] - 0s 2ms/step - loss: 0.4986 - accuracy: 0.8343 - val_loss: 0.9795 - val_accuracy: 0.6800\n",
            "Epoch 46/50\n",
            "175/175 [==============================] - 0s 2ms/step - loss: 0.4846 - accuracy: 0.8414 - val_loss: 0.9685 - val_accuracy: 0.6833\n",
            "Epoch 47/50\n",
            "175/175 [==============================] - 0s 2ms/step - loss: 0.5084 - accuracy: 0.8229 - val_loss: 0.9668 - val_accuracy: 0.6967\n",
            "Epoch 48/50\n",
            "175/175 [==============================] - 0s 2ms/step - loss: 0.4572 - accuracy: 0.8414 - val_loss: 0.9669 - val_accuracy: 0.6867\n",
            "Epoch 49/50\n",
            "175/175 [==============================] - 0s 2ms/step - loss: 0.4812 - accuracy: 0.8329 - val_loss: 0.9617 - val_accuracy: 0.6967\n",
            "Epoch 50/50\n",
            "175/175 [==============================] - 0s 2ms/step - loss: 0.4299 - accuracy: 0.8557 - val_loss: 0.9635 - val_accuracy: 0.6867\n"
          ]
        }
      ]
    },
    {
      "cell_type": "code",
      "metadata": {
        "id": "wYHuAqNX5E00",
        "colab": {
          "base_uri": "https://localhost:8080/",
          "height": 295
        },
        "outputId": "1a46b240-c08d-49a4-f207-c12f7af80b1a"
      },
      "source": [
        "question3.plot_model(\"accuracy\")"
      ],
      "execution_count": null,
      "outputs": [
        {
          "output_type": "display_data",
          "data": {
            "image/png": "[encoded data removed]",
            "text/plain": [
              "<Figure size 432x288 with 1 Axes>"
            ]
          },
          "metadata": {
            "needs_background": "light"
          }
        }
      ]
    },
    {
      "cell_type": "markdown",
      "metadata": {
        "id": "xXpRwIfP5E00"
      },
      "source": [
        "d) What other parameters could possibly be tuned?"
      ]
    },
    {
      "cell_type": "markdown",
      "metadata": {
        "id": "Dtow3nMl5E00"
      },
      "source": [
        "# Question 4\n",
        "After you are done with the 2-layer network, design a 3-layer network with two hiddenlayers with ReLU activation, each consisting of the optimal number of neurons you obtained in Question 3, (apply a dropout with a probability of 0.3 for each hidden layer), and train it with a batch size of 1."
      ]
    },
    {
      "cell_type": "code",
      "metadata": {
        "id": "oJWaJRq35E00"
      },
      "source": [
        "class Question4():\n",
        "\n",
        "    def __init__(self, X_train, y_train, X_test, y_test, epochs=50, num_hidden_neurons=16, batch_size=1):\n",
        "        self.epochs = epochs\n",
        "        self.num_hidden_neurons = num_hidden_neurons\n",
        "        self.batch_size = batch_size\n",
        "        self.seed = 0\n",
        "        self.history = None\n",
        "\n",
        "        self.X_train = X_train\n",
        "        self.y_train = y_train\n",
        "        self.X_test = X_test\n",
        "        self.y_test = y_test\n",
        "\n",
        "        np.random.seed(self.seed)\n",
        "        tf.random.set_seed(self.seed)\n",
        "\n",
        "    def create_model(self, num_hidden_neurons=None):\n",
        "        # create the model\n",
        "        num_hidden_neurons = num_hidden_neurons or self.num_hidden_neurons\n",
        "        self.model = tf.keras.Sequential([\n",
        "            tf.keras.layers.Dense(units=num_hidden_neurons, activation=\"relu\"),\n",
        "            tf.keras.layers.Dropout(rate=0.3, seed=self.seed),\n",
        "            tf.keras.layers.Dense(units=num_hidden_neurons, activation=\"relu\"),\n",
        "            tf.keras.layers.Dropout(rate=0.3, seed=self.seed),\n",
        "            tf.keras.layers.Dense(units=10, activation=\"softmax\")\n",
        "        ])\n",
        "\n",
        "        self.model.compile(optimizer=\"adam\",\n",
        "                           loss=\"sparse_categorical_crossentropy\",\n",
        "                           metrics=[\"accuracy\"])\n",
        "\n",
        "    def summarize_model(self):\n",
        "        # summarize the model\n",
        "        print(self.model.summary())\n",
        "\n",
        "    def train_model(self, batch_size=None):\n",
        "        # train the model\n",
        "        batch_size = batch_size or self.batch_size\n",
        "        self.history = self.model.fit(x=self.X_train, y=self.y_train,\n",
        "                                      batch_size=batch_size,\n",
        "                                      epochs=self.epochs,\n",
        "                                      verbose=1,\n",
        "                                      validation_data=(self.X_test, self.y_test))\n",
        "\n",
        "    def plot_model(self, variable=\"loss\", epoch_start=1, epoch_end=None):\n",
        "        # plot learning curves\n",
        "        train_epochs = self.history.history[variable][epoch_start - 1:epoch_end]\n",
        "        val_epochs = self.history.history[\"val_{}\".format(variable)][epoch_start - 1:epoch_end]\n",
        "        number_epochs = len(self.history.history[variable][epoch_start - 1:epoch_end])\n",
        "\n",
        "        plt.plot(range(epoch_start, epoch_start + number_epochs), train_epochs,\n",
        "                 label=\"Model training {}\".format(variable))\n",
        "        plt.plot(range(epoch_start, epoch_start + number_epochs), val_epochs, label=\"Model test {}\".format(variable))\n",
        "        plt.title(\"Model {}\".format(variable))\n",
        "        plt.ylabel(\"{}\".format(variable))\n",
        "        plt.xlabel(\"epoch\")\n",
        "        plt.legend(loc=\"best\")\n",
        "        plt.show()"
      ],
      "execution_count": null,
      "outputs": []
    },
    {
      "cell_type": "markdown",
      "metadata": {
        "id": "AUX-LDf55E01"
      },
      "source": [
        "a) Plot the train and test accuracy of the 3-layer network against training epochs."
      ]
    },
    {
      "cell_type": "code",
      "metadata": {
        "id": "6xz-d_hP5E01",
        "colab": {
          "base_uri": "https://localhost:8080/"
        },
        "outputId": "d1f70573-20f2-4bae-bf6b-1e4500cfb8b4"
      },
      "source": [
        "print(optimal_num_hidden_neurons)"
      ],
      "execution_count": null,
      "outputs": [
        {
          "output_type": "stream",
          "name": "stdout",
          "text": [
            "32\n"
          ]
        }
      ]
    },
    {
      "cell_type": "code",
      "metadata": {
        "id": "gd7HEqjD5E01",
        "colab": {
          "base_uri": "https://localhost:8080/"
        },
        "outputId": "1e6706c3-f480-4055-dbbe-4d9eabecd0aa"
      },
      "source": [
        "question4 = Question4(X_train, y_train, X_test, y_test, num_hidden_neurons=optimal_num_hidden_neurons)\n",
        "question4.create_model()\n",
        "question4.train_model()"
      ],
      "execution_count": null,
      "outputs": [
        {
          "output_type": "stream",
          "name": "stdout",
          "text": [
            "Epoch 1/50\n",
            "700/700 [==============================] - 2s 2ms/step - loss: 2.1023 - accuracy: 0.2129 - val_loss: 1.7059 - val_accuracy: 0.3767\n",
            "Epoch 2/50\n",
            "700/700 [==============================] - 1s 2ms/step - loss: 1.7136 - accuracy: 0.3786 - val_loss: 1.5177 - val_accuracy: 0.4667\n",
            "Epoch 3/50\n",
            "700/700 [==============================] - 1s 2ms/step - loss: 1.5059 - accuracy: 0.4471 - val_loss: 1.3868 - val_accuracy: 0.4933\n",
            "Epoch 4/50\n",
            "700/700 [==============================] - 1s 2ms/step - loss: 1.3777 - accuracy: 0.4986 - val_loss: 1.2750 - val_accuracy: 0.5467\n",
            "Epoch 5/50\n",
            "700/700 [==============================] - 1s 2ms/step - loss: 1.2612 - accuracy: 0.5443 - val_loss: 1.1919 - val_accuracy: 0.5700\n",
            "Epoch 6/50\n",
            "700/700 [==============================] - 1s 2ms/step - loss: 1.2547 - accuracy: 0.5243 - val_loss: 1.1775 - val_accuracy: 0.5533\n",
            "Epoch 7/50\n",
            "700/700 [==============================] - 1s 2ms/step - loss: 1.1732 - accuracy: 0.5643 - val_loss: 1.1290 - val_accuracy: 0.5833\n",
            "Epoch 8/50\n",
            "700/700 [==============================] - 1s 2ms/step - loss: 1.1053 - accuracy: 0.5971 - val_loss: 1.0746 - val_accuracy: 0.6000\n",
            "Epoch 9/50\n",
            "700/700 [==============================] - 1s 2ms/step - loss: 1.0737 - accuracy: 0.6143 - val_loss: 1.0591 - val_accuracy: 0.6300\n",
            "Epoch 10/50\n",
            "700/700 [==============================] - 1s 2ms/step - loss: 1.0514 - accuracy: 0.6271 - val_loss: 1.0586 - val_accuracy: 0.6133\n",
            "Epoch 11/50\n",
            "700/700 [==============================] - 1s 2ms/step - loss: 1.0070 - accuracy: 0.6257 - val_loss: 1.0482 - val_accuracy: 0.6167\n",
            "Epoch 12/50\n",
            "700/700 [==============================] - 1s 2ms/step - loss: 0.9679 - accuracy: 0.6571 - val_loss: 1.0704 - val_accuracy: 0.6167\n",
            "Epoch 13/50\n",
            "700/700 [==============================] - 1s 2ms/step - loss: 0.9732 - accuracy: 0.6529 - val_loss: 0.9999 - val_accuracy: 0.6333\n",
            "Epoch 14/50\n",
            "700/700 [==============================] - 1s 2ms/step - loss: 0.9344 - accuracy: 0.6471 - val_loss: 1.0363 - val_accuracy: 0.6467\n",
            "Epoch 15/50\n",
            "700/700 [==============================] - 1s 2ms/step - loss: 0.8833 - accuracy: 0.6771 - val_loss: 1.0333 - val_accuracy: 0.6300\n",
            "Epoch 16/50\n",
            "700/700 [==============================] - 1s 2ms/step - loss: 0.8845 - accuracy: 0.6714 - val_loss: 1.0049 - val_accuracy: 0.6600\n",
            "Epoch 17/50\n",
            "700/700 [==============================] - 1s 2ms/step - loss: 0.8529 - accuracy: 0.6686 - val_loss: 1.0132 - val_accuracy: 0.6333\n",
            "Epoch 18/50\n",
            "700/700 [==============================] - 1s 2ms/step - loss: 0.7843 - accuracy: 0.7186 - val_loss: 1.0069 - val_accuracy: 0.6433\n",
            "Epoch 19/50\n",
            "700/700 [==============================] - 1s 2ms/step - loss: 0.7877 - accuracy: 0.7071 - val_loss: 1.0590 - val_accuracy: 0.6167\n",
            "Epoch 20/50\n",
            "700/700 [==============================] - 1s 2ms/step - loss: 0.7855 - accuracy: 0.6986 - val_loss: 1.0022 - val_accuracy: 0.6767\n",
            "Epoch 21/50\n",
            "700/700 [==============================] - 1s 2ms/step - loss: 0.7942 - accuracy: 0.7100 - val_loss: 0.9927 - val_accuracy: 0.6733\n",
            "Epoch 22/50\n",
            "700/700 [==============================] - 1s 2ms/step - loss: 0.7566 - accuracy: 0.7114 - val_loss: 1.0229 - val_accuracy: 0.6367\n",
            "Epoch 23/50\n",
            "700/700 [==============================] - 1s 2ms/step - loss: 0.7211 - accuracy: 0.7357 - val_loss: 1.0160 - val_accuracy: 0.6533\n",
            "Epoch 24/50\n",
            "700/700 [==============================] - 1s 2ms/step - loss: 0.7559 - accuracy: 0.7214 - val_loss: 0.9950 - val_accuracy: 0.6500\n",
            "Epoch 25/50\n",
            "700/700 [==============================] - 1s 2ms/step - loss: 0.7360 - accuracy: 0.7214 - val_loss: 0.9831 - val_accuracy: 0.6567\n",
            "Epoch 26/50\n",
            "700/700 [==============================] - 1s 2ms/step - loss: 0.7308 - accuracy: 0.7557 - val_loss: 0.9636 - val_accuracy: 0.6867\n",
            "Epoch 27/50\n",
            "700/700 [==============================] - 1s 2ms/step - loss: 0.6984 - accuracy: 0.7600 - val_loss: 0.9710 - val_accuracy: 0.6767\n",
            "Epoch 28/50\n",
            "700/700 [==============================] - 1s 2ms/step - loss: 0.6782 - accuracy: 0.7571 - val_loss: 1.0068 - val_accuracy: 0.6967\n",
            "Epoch 29/50\n",
            "700/700 [==============================] - 1s 2ms/step - loss: 0.7072 - accuracy: 0.7500 - val_loss: 1.0507 - val_accuracy: 0.6733\n",
            "Epoch 30/50\n",
            "700/700 [==============================] - 1s 2ms/step - loss: 0.6645 - accuracy: 0.7700 - val_loss: 1.0342 - val_accuracy: 0.6700\n",
            "Epoch 31/50\n",
            "700/700 [==============================] - 1s 2ms/step - loss: 0.6165 - accuracy: 0.7900 - val_loss: 1.0529 - val_accuracy: 0.6800\n",
            "Epoch 32/50\n",
            "700/700 [==============================] - 1s 2ms/step - loss: 0.6281 - accuracy: 0.7714 - val_loss: 1.1453 - val_accuracy: 0.6600\n",
            "Epoch 33/50\n",
            "700/700 [==============================] - 1s 2ms/step - loss: 0.5962 - accuracy: 0.7914 - val_loss: 1.0556 - val_accuracy: 0.6767\n",
            "Epoch 34/50\n",
            "700/700 [==============================] - 1s 2ms/step - loss: 0.6954 - accuracy: 0.7614 - val_loss: 1.0427 - val_accuracy: 0.6900\n",
            "Epoch 35/50\n",
            "700/700 [==============================] - 1s 2ms/step - loss: 0.5963 - accuracy: 0.7900 - val_loss: 1.0529 - val_accuracy: 0.6900\n",
            "Epoch 36/50\n",
            "700/700 [==============================] - 1s 2ms/step - loss: 0.5668 - accuracy: 0.7886 - val_loss: 1.0613 - val_accuracy: 0.6867\n",
            "Epoch 37/50\n",
            "700/700 [==============================] - 1s 2ms/step - loss: 0.6006 - accuracy: 0.8057 - val_loss: 1.1501 - val_accuracy: 0.6500\n",
            "Epoch 38/50\n",
            "700/700 [==============================] - 1s 2ms/step - loss: 0.5897 - accuracy: 0.7900 - val_loss: 1.0779 - val_accuracy: 0.6733\n",
            "Epoch 39/50\n",
            "700/700 [==============================] - 1s 2ms/step - loss: 0.6124 - accuracy: 0.7800 - val_loss: 1.1599 - val_accuracy: 0.6500\n",
            "Epoch 40/50\n",
            "700/700 [==============================] - 1s 2ms/step - loss: 0.5852 - accuracy: 0.7900 - val_loss: 1.0735 - val_accuracy: 0.6700\n",
            "Epoch 41/50\n",
            "700/700 [==============================] - 1s 2ms/step - loss: 0.6121 - accuracy: 0.8000 - val_loss: 1.1222 - val_accuracy: 0.6667\n",
            "Epoch 42/50\n",
            "700/700 [==============================] - 1s 2ms/step - loss: 0.5377 - accuracy: 0.8071 - val_loss: 1.1784 - val_accuracy: 0.6667\n",
            "Epoch 43/50\n",
            "700/700 [==============================] - 1s 2ms/step - loss: 0.5044 - accuracy: 0.8243 - val_loss: 1.1489 - val_accuracy: 0.6667\n",
            "Epoch 44/50\n",
            "700/700 [==============================] - 1s 2ms/step - loss: 0.5074 - accuracy: 0.8014 - val_loss: 1.1533 - val_accuracy: 0.6700\n",
            "Epoch 45/50\n",
            "700/700 [==============================] - 1s 2ms/step - loss: 0.5539 - accuracy: 0.7943 - val_loss: 1.1655 - val_accuracy: 0.6867\n",
            "Epoch 46/50\n",
            "700/700 [==============================] - 1s 2ms/step - loss: 0.5063 - accuracy: 0.8186 - val_loss: 1.2214 - val_accuracy: 0.6633\n",
            "Epoch 47/50\n",
            "700/700 [==============================] - 1s 2ms/step - loss: 0.5770 - accuracy: 0.7886 - val_loss: 1.1346 - val_accuracy: 0.7100\n",
            "Epoch 48/50\n",
            "700/700 [==============================] - 1s 2ms/step - loss: 0.4748 - accuracy: 0.8257 - val_loss: 1.1677 - val_accuracy: 0.6833\n",
            "Epoch 49/50\n",
            "700/700 [==============================] - 1s 2ms/step - loss: 0.5672 - accuracy: 0.8171 - val_loss: 1.1502 - val_accuracy: 0.6800\n",
            "Epoch 50/50\n",
            "700/700 [==============================] - 1s 2ms/step - loss: 0.4798 - accuracy: 0.8214 - val_loss: 1.1457 - val_accuracy: 0.6800\n"
          ]
        }
      ]
    },
    {
      "cell_type": "code",
      "metadata": {
        "id": "Vwoo8FJP5E01",
        "colab": {
          "base_uri": "https://localhost:8080/",
          "height": 295
        },
        "outputId": "15d7f0a3-a49e-4761-f43f-264682bd005d"
      },
      "source": [
        "question4.plot_model(\"accuracy\")"
      ],
      "execution_count": null,
      "outputs": [
        {
          "output_type": "display_data",
          "data": {
            "image/png": "[encoded data removed]",
            "text/plain": [
              "<Figure size 432x288 with 1 Axes>"
            ]
          },
          "metadata": {
            "needs_background": "light"
          }
        }
      ]
    },
    {
      "cell_type": "markdown",
      "metadata": {
        "id": "_EDE2qK15E01"
      },
      "source": [
        "b) Compare and comment on the performances of the optimal 2-layer network from your hyperparameter tuning in Question 2 and 3 and the 3-layer network."
      ]
    },
    {
      "cell_type": "markdown",
      "metadata": {
        "id": "F2Y0XeJp5E01"
      },
      "source": [
        "# Question 5 (let’s dig deeper!)\n",
        "We are going to dissect the purpose of dropout in the model."
      ]
    },
    {
      "cell_type": "code",
      "metadata": {
        "id": "bytt0Vzi5E01",
        "scrolled": true
      },
      "source": [
        "class Question5():\n",
        "\n",
        "    def __init__(self, X_train, y_train, X_test, y_test, epochs=50, num_hidden_neurons=16, batch_size=1):\n",
        "        self.epochs = epochs\n",
        "        self.num_hidden_neurons = num_hidden_neurons\n",
        "        self.batch_size = batch_size\n",
        "        self.seed = 0\n",
        "        self.history = None\n",
        "\n",
        "        self.X_train = X_train\n",
        "        self.y_train = y_train\n",
        "        self.X_test = X_test\n",
        "        self.y_test = y_test\n",
        "\n",
        "        np.random.seed(self.seed)\n",
        "        tf.random.set_seed(self.seed)\n",
        "\n",
        "    def create_model(self):\n",
        "        # create the model\n",
        "        self.model = tf.keras.Sequential([\n",
        "            tf.keras.layers.Dense(units=self.num_hidden_neurons, activation=\"relu\"),\n",
        "            tf.keras.layers.Dense(units=10, activation=\"softmax\")\n",
        "        ])\n",
        "\n",
        "        self.model.compile(optimizer=\"adam\",\n",
        "                           loss=\"sparse_categorical_crossentropy\",\n",
        "                           metrics=[\"accuracy\"])\n",
        "\n",
        "    def summarize_model(self):\n",
        "        # summarize the model\n",
        "        print(self.model.summary())\n",
        "\n",
        "    def train_model(self, batch_size=None):\n",
        "        # train the model\n",
        "        batch_size = batch_size or self.batch_size\n",
        "        self.history = self.model.fit(x=self.X_train, y=self.y_train,\n",
        "                                      batch_size=batch_size,\n",
        "                                      epochs=self.epochs,\n",
        "                                      verbose=1,\n",
        "                                      validation_data=(self.X_test, self.y_test))\n",
        "\n",
        "    def plot_model(self, variable=\"loss\", epoch_start=1, epoch_end=None):\n",
        "        # plot learning curves\n",
        "        train_epochs = self.history.history[variable][epoch_start - 1:epoch_end]\n",
        "        val_epochs = self.history.history[\"val_{}\".format(variable)][epoch_start - 1:epoch_end]\n",
        "        number_epochs = len(self.history.history[variable][epoch_start - 1:epoch_end])\n",
        "\n",
        "        plt.plot(range(epoch_start, epoch_start + number_epochs), train_epochs,\n",
        "                 label=\"Model training {}\".format(variable))\n",
        "        plt.plot(range(epoch_start, epoch_start + number_epochs), val_epochs, label=\"Model test {}\".format(variable))\n",
        "        plt.title(\"Model {}\".format(variable))\n",
        "        plt.ylabel(\"{}\".format(variable))\n",
        "        plt.xlabel(\"epoch\")\n",
        "        plt.legend(loc=\"best\")\n",
        "        plt.show()"
      ],
      "execution_count": null,
      "outputs": []
    },
    {
      "cell_type": "markdown",
      "metadata": {
        "id": "h8_QE8S75E01"
      },
      "source": [
        "a) Why do we add dropouts? Investigate the purpose of dropouts by removing dropouts from your original 2-layer network (before changing the batch size and number of neurons). Plot accuracies on training and test data with neural network without dropout. Plot as well the losses on training and test data with neural network without dropout."
      ]
    },
    {
      "cell_type": "code",
      "metadata": {
        "id": "wvZY50Bw5E01",
        "colab": {
          "base_uri": "https://localhost:8080/"
        },
        "outputId": "f67b1c29-26de-4b73-c7c1-b9187a105f7f"
      },
      "source": [
        "question5 = Question5(X_train, y_train, X_test, y_test)\n",
        "question5.create_model()\n",
        "question5.train_model()"
      ],
      "execution_count": null,
      "outputs": [
        {
          "output_type": "stream",
          "name": "stdout",
          "text": [
            "Epoch 1/50\n",
            "700/700 [==============================] - 2s 2ms/step - loss: 1.9032 - accuracy: 0.3486 - val_loss: 1.7267 - val_accuracy: 0.4000\n",
            "Epoch 2/50\n",
            "700/700 [==============================] - 1s 2ms/step - loss: 1.3812 - accuracy: 0.5100 - val_loss: 1.4706 - val_accuracy: 0.4633\n",
            "Epoch 3/50\n",
            "700/700 [==============================] - 1s 2ms/step - loss: 1.1575 - accuracy: 0.5914 - val_loss: 1.3331 - val_accuracy: 0.5300\n",
            "Epoch 4/50\n",
            "700/700 [==============================] - 1s 2ms/step - loss: 1.0151 - accuracy: 0.6443 - val_loss: 1.2124 - val_accuracy: 0.5867\n",
            "Epoch 5/50\n",
            "700/700 [==============================] - 1s 2ms/step - loss: 0.8969 - accuracy: 0.6929 - val_loss: 1.1638 - val_accuracy: 0.6133\n",
            "Epoch 6/50\n",
            "700/700 [==============================] - 1s 2ms/step - loss: 0.8170 - accuracy: 0.7171 - val_loss: 1.1349 - val_accuracy: 0.6167\n",
            "Epoch 7/50\n",
            "700/700 [==============================] - 1s 2ms/step - loss: 0.7461 - accuracy: 0.7457 - val_loss: 1.0945 - val_accuracy: 0.6300\n",
            "Epoch 8/50\n",
            "700/700 [==============================] - 1s 2ms/step - loss: 0.6852 - accuracy: 0.7829 - val_loss: 1.0916 - val_accuracy: 0.6567\n",
            "Epoch 9/50\n",
            "700/700 [==============================] - 1s 2ms/step - loss: 0.6398 - accuracy: 0.7886 - val_loss: 1.0933 - val_accuracy: 0.6600\n",
            "Epoch 10/50\n",
            "700/700 [==============================] - 1s 2ms/step - loss: 0.5937 - accuracy: 0.8186 - val_loss: 1.0825 - val_accuracy: 0.6767\n",
            "Epoch 11/50\n",
            "700/700 [==============================] - 1s 2ms/step - loss: 0.5558 - accuracy: 0.8286 - val_loss: 1.0689 - val_accuracy: 0.6533\n",
            "Epoch 12/50\n",
            "700/700 [==============================] - 1s 2ms/step - loss: 0.5285 - accuracy: 0.8471 - val_loss: 1.0929 - val_accuracy: 0.6567\n",
            "Epoch 13/50\n",
            "700/700 [==============================] - 1s 2ms/step - loss: 0.5021 - accuracy: 0.8457 - val_loss: 1.1102 - val_accuracy: 0.6433\n",
            "Epoch 14/50\n",
            "700/700 [==============================] - 1s 2ms/step - loss: 0.4804 - accuracy: 0.8529 - val_loss: 1.1063 - val_accuracy: 0.6500\n",
            "Epoch 15/50\n",
            "700/700 [==============================] - 1s 2ms/step - loss: 0.4515 - accuracy: 0.8671 - val_loss: 1.1296 - val_accuracy: 0.6567\n",
            "Epoch 16/50\n",
            "700/700 [==============================] - 1s 2ms/step - loss: 0.4336 - accuracy: 0.8743 - val_loss: 1.1296 - val_accuracy: 0.6700\n",
            "Epoch 17/50\n",
            "700/700 [==============================] - 1s 2ms/step - loss: 0.4134 - accuracy: 0.8771 - val_loss: 1.1567 - val_accuracy: 0.6733\n",
            "Epoch 18/50\n",
            "700/700 [==============================] - 1s 2ms/step - loss: 0.3952 - accuracy: 0.8757 - val_loss: 1.1734 - val_accuracy: 0.6867\n",
            "Epoch 19/50\n",
            "700/700 [==============================] - 1s 2ms/step - loss: 0.3770 - accuracy: 0.8857 - val_loss: 1.2133 - val_accuracy: 0.6600\n",
            "Epoch 20/50\n",
            "700/700 [==============================] - 1s 2ms/step - loss: 0.3637 - accuracy: 0.8957 - val_loss: 1.2594 - val_accuracy: 0.6367\n",
            "Epoch 21/50\n",
            "700/700 [==============================] - 1s 2ms/step - loss: 0.3474 - accuracy: 0.8900 - val_loss: 1.2099 - val_accuracy: 0.6767\n",
            "Epoch 22/50\n",
            "700/700 [==============================] - 1s 2ms/step - loss: 0.3353 - accuracy: 0.8943 - val_loss: 1.2824 - val_accuracy: 0.6333\n",
            "Epoch 23/50\n",
            "700/700 [==============================] - 1s 2ms/step - loss: 0.3217 - accuracy: 0.8971 - val_loss: 1.2960 - val_accuracy: 0.6533\n",
            "Epoch 24/50\n",
            "700/700 [==============================] - 1s 2ms/step - loss: 0.3109 - accuracy: 0.9043 - val_loss: 1.2985 - val_accuracy: 0.6567\n",
            "Epoch 25/50\n",
            "700/700 [==============================] - 1s 2ms/step - loss: 0.2977 - accuracy: 0.9157 - val_loss: 1.3374 - val_accuracy: 0.6533\n",
            "Epoch 26/50\n",
            "700/700 [==============================] - 1s 2ms/step - loss: 0.2828 - accuracy: 0.9100 - val_loss: 1.3317 - val_accuracy: 0.6600\n",
            "Epoch 27/50\n",
            "700/700 [==============================] - 1s 2ms/step - loss: 0.2779 - accuracy: 0.9129 - val_loss: 1.3366 - val_accuracy: 0.6567\n",
            "Epoch 28/50\n",
            "700/700 [==============================] - 1s 2ms/step - loss: 0.2666 - accuracy: 0.9200 - val_loss: 1.3992 - val_accuracy: 0.6467\n",
            "Epoch 29/50\n",
            "700/700 [==============================] - 1s 2ms/step - loss: 0.2570 - accuracy: 0.9214 - val_loss: 1.4649 - val_accuracy: 0.6500\n",
            "Epoch 30/50\n",
            "700/700 [==============================] - 1s 2ms/step - loss: 0.2475 - accuracy: 0.9271 - val_loss: 1.4846 - val_accuracy: 0.6333\n",
            "Epoch 31/50\n",
            "700/700 [==============================] - 1s 2ms/step - loss: 0.2415 - accuracy: 0.9257 - val_loss: 1.4503 - val_accuracy: 0.6433\n",
            "Epoch 32/50\n",
            "700/700 [==============================] - 1s 2ms/step - loss: 0.2256 - accuracy: 0.9386 - val_loss: 1.4879 - val_accuracy: 0.6467\n",
            "Epoch 33/50\n",
            "700/700 [==============================] - 1s 2ms/step - loss: 0.2198 - accuracy: 0.9386 - val_loss: 1.5316 - val_accuracy: 0.6433\n",
            "Epoch 34/50\n",
            "700/700 [==============================] - 1s 2ms/step - loss: 0.2174 - accuracy: 0.9414 - val_loss: 1.5666 - val_accuracy: 0.6533\n",
            "Epoch 35/50\n",
            "700/700 [==============================] - 1s 2ms/step - loss: 0.2032 - accuracy: 0.9471 - val_loss: 1.6119 - val_accuracy: 0.6400\n",
            "Epoch 36/50\n",
            "700/700 [==============================] - 1s 2ms/step - loss: 0.1980 - accuracy: 0.9471 - val_loss: 1.5960 - val_accuracy: 0.6500\n",
            "Epoch 37/50\n",
            "700/700 [==============================] - 1s 2ms/step - loss: 0.1866 - accuracy: 0.9500 - val_loss: 1.6628 - val_accuracy: 0.6400\n",
            "Epoch 38/50\n",
            "700/700 [==============================] - 1s 2ms/step - loss: 0.1763 - accuracy: 0.9600 - val_loss: 1.6834 - val_accuracy: 0.6400\n",
            "Epoch 39/50\n",
            "700/700 [==============================] - 1s 2ms/step - loss: 0.1697 - accuracy: 0.9571 - val_loss: 1.7509 - val_accuracy: 0.6267\n",
            "Epoch 40/50\n",
            "700/700 [==============================] - 1s 2ms/step - loss: 0.1686 - accuracy: 0.9471 - val_loss: 1.7604 - val_accuracy: 0.6333\n",
            "Epoch 41/50\n",
            "700/700 [==============================] - 1s 2ms/step - loss: 0.1596 - accuracy: 0.9600 - val_loss: 1.7389 - val_accuracy: 0.6600\n",
            "Epoch 42/50\n",
            "700/700 [==============================] - 1s 2ms/step - loss: 0.1534 - accuracy: 0.9629 - val_loss: 1.7663 - val_accuracy: 0.6500\n",
            "Epoch 43/50\n",
            "700/700 [==============================] - 1s 2ms/step - loss: 0.1446 - accuracy: 0.9686 - val_loss: 1.8579 - val_accuracy: 0.6333\n",
            "Epoch 44/50\n",
            "700/700 [==============================] - 1s 2ms/step - loss: 0.1390 - accuracy: 0.9743 - val_loss: 1.8744 - val_accuracy: 0.6333\n",
            "Epoch 45/50\n",
            "700/700 [==============================] - 1s 2ms/step - loss: 0.1312 - accuracy: 0.9757 - val_loss: 1.9104 - val_accuracy: 0.6367\n",
            "Epoch 46/50\n",
            "700/700 [==============================] - 1s 2ms/step - loss: 0.1299 - accuracy: 0.9714 - val_loss: 1.9145 - val_accuracy: 0.6367\n",
            "Epoch 47/50\n",
            "700/700 [==============================] - 1s 2ms/step - loss: 0.1177 - accuracy: 0.9771 - val_loss: 1.9663 - val_accuracy: 0.6300\n",
            "Epoch 48/50\n",
            "700/700 [==============================] - 1s 2ms/step - loss: 0.1160 - accuracy: 0.9800 - val_loss: 1.9747 - val_accuracy: 0.6400\n",
            "Epoch 49/50\n",
            "700/700 [==============================] - 1s 2ms/step - loss: 0.1155 - accuracy: 0.9757 - val_loss: 2.0194 - val_accuracy: 0.6300\n",
            "Epoch 50/50\n",
            "700/700 [==============================] - 1s 2ms/step - loss: 0.1050 - accuracy: 0.9843 - val_loss: 2.0204 - val_accuracy: 0.6333\n"
          ]
        }
      ]
    },
    {
      "cell_type": "code",
      "metadata": {
        "id": "O8wyakww5E01",
        "colab": {
          "base_uri": "https://localhost:8080/",
          "height": 573
        },
        "outputId": "0d32e786-9f98-4626-a4d5-a1e51d9a334a"
      },
      "source": [
        "question5.plot_model(\"accuracy\")\n",
        "question5.plot_model(\"loss\")"
      ],
      "execution_count": null,
      "outputs": [
        {
          "output_type": "display_data",
          "data": {
            "image/png": "[encoded data removed]",
            "text/plain": [
              "<Figure size 432x288 with 1 Axes>"
            ]
          },
          "metadata": {
            "needs_background": "light"
          }
        },
        {
          "output_type": "display_data",
          "data": {
            "image/png": "[encoded data removed]",
            "text/plain": [
              "<Figure size 432x288 with 1 Axes>"
            ]
          },
          "metadata": {
            "needs_background": "light"
          }
        }
      ]
    },
    {
      "cell_type": "markdown",
      "metadata": {
        "id": "QDInIXLf5E01"
      },
      "source": [
        "b) Explain the effect of removing dropouts."
      ]
    },
    {
      "cell_type": "markdown",
      "metadata": {
        "id": "8TeTlIQH5E02"
      },
      "source": [
        "c) What is another approach that you could take to address overfitting in the model?"
      ]
    }
  ]
}