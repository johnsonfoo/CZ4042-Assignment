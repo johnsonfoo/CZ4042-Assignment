{
 "cells": [
  {
   "cell_type": "markdown",
   "metadata": {},
   "source": [
    "# Import Libraries"
   ]
  },
  {
   "cell_type": "code",
   "execution_count": 1,
   "metadata": {
    "id": "YM8unKH7nSIM"
   },
   "outputs": [
    {
     "name": "stdout",
     "output_type": "stream",
     "text": [
      "Init Plugin\n",
      "Init Graph Optimizer\n",
      "Init Kernel\n"
     ]
    }
   ],
   "source": [
    "import tensorflow\n",
    "import pandas as pd\n",
    "import time\n",
    "import numpy as np\n",
    "import matplotlib.pyplot as plt\n",
    "\n",
    "# tensorflow libraries\n",
    "import tensorflow as tf\n",
    "import tensorflow.keras as keras\n",
    "from tensorflow.keras import Sequential\n",
    "from tensorflow.keras.layers import Dense, Dropout\n",
    "\n",
    "# sklearn libraries are useful for preprocessing, performance measures, etc.\n",
    "from sklearn import preprocessing\n",
    "from sklearn.model_selection import KFold\n",
    "from sklearn.model_selection import train_test_split"
   ]
  },
  {
   "cell_type": "markdown",
   "metadata": {
    "id": "gmTBl3xoqA9g"
   },
   "source": [
    "# Read Data"
   ]
  },
  {
   "cell_type": "code",
   "execution_count": 2,
   "metadata": {
    "id": "An4b9d12p8u2"
   },
   "outputs": [
    {
     "data": {
      "text/html": [
       "<div>\n",
       "<style scoped>\n",
       "    .dataframe tbody tr th:only-of-type {\n",
       "        vertical-align: middle;\n",
       "    }\n",
       "\n",
       "    .dataframe tbody tr th {\n",
       "        vertical-align: top;\n",
       "    }\n",
       "\n",
       "    .dataframe thead th {\n",
       "        text-align: right;\n",
       "    }\n",
       "</style>\n",
       "<table border=\"1\" class=\"dataframe\">\n",
       "  <thead>\n",
       "    <tr style=\"text-align: right;\">\n",
       "      <th></th>\n",
       "      <th>filename</th>\n",
       "      <th>length</th>\n",
       "      <th>chroma_stft_mean</th>\n",
       "      <th>chroma_stft_var</th>\n",
       "      <th>rms_mean</th>\n",
       "      <th>rms_var</th>\n",
       "      <th>spectral_centroid_mean</th>\n",
       "      <th>spectral_centroid_var</th>\n",
       "      <th>spectral_bandwidth_mean</th>\n",
       "      <th>spectral_bandwidth_var</th>\n",
       "      <th>...</th>\n",
       "      <th>mfcc16_var</th>\n",
       "      <th>mfcc17_mean</th>\n",
       "      <th>mfcc17_var</th>\n",
       "      <th>mfcc18_mean</th>\n",
       "      <th>mfcc18_var</th>\n",
       "      <th>mfcc19_mean</th>\n",
       "      <th>mfcc19_var</th>\n",
       "      <th>mfcc20_mean</th>\n",
       "      <th>mfcc20_var</th>\n",
       "      <th>label</th>\n",
       "    </tr>\n",
       "  </thead>\n",
       "  <tbody>\n",
       "    <tr>\n",
       "      <th>0</th>\n",
       "      <td>blues.00000.wav</td>\n",
       "      <td>661794</td>\n",
       "      <td>0.350088</td>\n",
       "      <td>0.088757</td>\n",
       "      <td>0.130228</td>\n",
       "      <td>0.002827</td>\n",
       "      <td>1784.165850</td>\n",
       "      <td>129774.064525</td>\n",
       "      <td>2002.449060</td>\n",
       "      <td>85882.761315</td>\n",
       "      <td>...</td>\n",
       "      <td>52.420910</td>\n",
       "      <td>-1.690215</td>\n",
       "      <td>36.524071</td>\n",
       "      <td>-0.408979</td>\n",
       "      <td>41.597103</td>\n",
       "      <td>-2.303523</td>\n",
       "      <td>55.062923</td>\n",
       "      <td>1.221291</td>\n",
       "      <td>46.936035</td>\n",
       "      <td>blues</td>\n",
       "    </tr>\n",
       "    <tr>\n",
       "      <th>1</th>\n",
       "      <td>blues.00001.wav</td>\n",
       "      <td>661794</td>\n",
       "      <td>0.340914</td>\n",
       "      <td>0.094980</td>\n",
       "      <td>0.095948</td>\n",
       "      <td>0.002373</td>\n",
       "      <td>1530.176679</td>\n",
       "      <td>375850.073649</td>\n",
       "      <td>2039.036516</td>\n",
       "      <td>213843.755497</td>\n",
       "      <td>...</td>\n",
       "      <td>55.356403</td>\n",
       "      <td>-0.731125</td>\n",
       "      <td>60.314529</td>\n",
       "      <td>0.295073</td>\n",
       "      <td>48.120598</td>\n",
       "      <td>-0.283518</td>\n",
       "      <td>51.106190</td>\n",
       "      <td>0.531217</td>\n",
       "      <td>45.786282</td>\n",
       "      <td>blues</td>\n",
       "    </tr>\n",
       "    <tr>\n",
       "      <th>2</th>\n",
       "      <td>blues.00002.wav</td>\n",
       "      <td>661794</td>\n",
       "      <td>0.363637</td>\n",
       "      <td>0.085275</td>\n",
       "      <td>0.175570</td>\n",
       "      <td>0.002746</td>\n",
       "      <td>1552.811865</td>\n",
       "      <td>156467.643368</td>\n",
       "      <td>1747.702312</td>\n",
       "      <td>76254.192257</td>\n",
       "      <td>...</td>\n",
       "      <td>40.598766</td>\n",
       "      <td>-7.729093</td>\n",
       "      <td>47.639427</td>\n",
       "      <td>-1.816407</td>\n",
       "      <td>52.382141</td>\n",
       "      <td>-3.439720</td>\n",
       "      <td>46.639660</td>\n",
       "      <td>-2.231258</td>\n",
       "      <td>30.573025</td>\n",
       "      <td>blues</td>\n",
       "    </tr>\n",
       "    <tr>\n",
       "      <th>3</th>\n",
       "      <td>blues.00003.wav</td>\n",
       "      <td>661794</td>\n",
       "      <td>0.404785</td>\n",
       "      <td>0.093999</td>\n",
       "      <td>0.141093</td>\n",
       "      <td>0.006346</td>\n",
       "      <td>1070.106615</td>\n",
       "      <td>184355.942417</td>\n",
       "      <td>1596.412872</td>\n",
       "      <td>166441.494769</td>\n",
       "      <td>...</td>\n",
       "      <td>44.427753</td>\n",
       "      <td>-3.319597</td>\n",
       "      <td>50.206673</td>\n",
       "      <td>0.636965</td>\n",
       "      <td>37.319130</td>\n",
       "      <td>-0.619121</td>\n",
       "      <td>37.259739</td>\n",
       "      <td>-3.407448</td>\n",
       "      <td>31.949339</td>\n",
       "      <td>blues</td>\n",
       "    </tr>\n",
       "    <tr>\n",
       "      <th>4</th>\n",
       "      <td>blues.00004.wav</td>\n",
       "      <td>661794</td>\n",
       "      <td>0.308526</td>\n",
       "      <td>0.087841</td>\n",
       "      <td>0.091529</td>\n",
       "      <td>0.002303</td>\n",
       "      <td>1835.004266</td>\n",
       "      <td>343399.939274</td>\n",
       "      <td>1748.172116</td>\n",
       "      <td>88445.209036</td>\n",
       "      <td>...</td>\n",
       "      <td>86.099236</td>\n",
       "      <td>-5.454034</td>\n",
       "      <td>75.269707</td>\n",
       "      <td>-0.916874</td>\n",
       "      <td>53.613918</td>\n",
       "      <td>-4.404827</td>\n",
       "      <td>62.910812</td>\n",
       "      <td>-11.703234</td>\n",
       "      <td>55.195160</td>\n",
       "      <td>blues</td>\n",
       "    </tr>\n",
       "  </tbody>\n",
       "</table>\n",
       "<p>5 rows × 60 columns</p>\n",
       "</div>"
      ],
      "text/plain": [
       "          filename  length  chroma_stft_mean  chroma_stft_var  rms_mean  \\\n",
       "0  blues.00000.wav  661794          0.350088         0.088757  0.130228   \n",
       "1  blues.00001.wav  661794          0.340914         0.094980  0.095948   \n",
       "2  blues.00002.wav  661794          0.363637         0.085275  0.175570   \n",
       "3  blues.00003.wav  661794          0.404785         0.093999  0.141093   \n",
       "4  blues.00004.wav  661794          0.308526         0.087841  0.091529   \n",
       "\n",
       "    rms_var  spectral_centroid_mean  spectral_centroid_var  \\\n",
       "0  0.002827             1784.165850          129774.064525   \n",
       "1  0.002373             1530.176679          375850.073649   \n",
       "2  0.002746             1552.811865          156467.643368   \n",
       "3  0.006346             1070.106615          184355.942417   \n",
       "4  0.002303             1835.004266          343399.939274   \n",
       "\n",
       "   spectral_bandwidth_mean  spectral_bandwidth_var  ...  mfcc16_var  \\\n",
       "0              2002.449060            85882.761315  ...   52.420910   \n",
       "1              2039.036516           213843.755497  ...   55.356403   \n",
       "2              1747.702312            76254.192257  ...   40.598766   \n",
       "3              1596.412872           166441.494769  ...   44.427753   \n",
       "4              1748.172116            88445.209036  ...   86.099236   \n",
       "\n",
       "   mfcc17_mean  mfcc17_var  mfcc18_mean  mfcc18_var  mfcc19_mean  mfcc19_var  \\\n",
       "0    -1.690215   36.524071    -0.408979   41.597103    -2.303523   55.062923   \n",
       "1    -0.731125   60.314529     0.295073   48.120598    -0.283518   51.106190   \n",
       "2    -7.729093   47.639427    -1.816407   52.382141    -3.439720   46.639660   \n",
       "3    -3.319597   50.206673     0.636965   37.319130    -0.619121   37.259739   \n",
       "4    -5.454034   75.269707    -0.916874   53.613918    -4.404827   62.910812   \n",
       "\n",
       "   mfcc20_mean  mfcc20_var  label  \n",
       "0     1.221291   46.936035  blues  \n",
       "1     0.531217   45.786282  blues  \n",
       "2    -2.231258   30.573025  blues  \n",
       "3    -3.407448   31.949339  blues  \n",
       "4   -11.703234   55.195160  blues  \n",
       "\n",
       "[5 rows x 60 columns]"
      ]
     },
     "execution_count": 2,
     "metadata": {},
     "output_type": "execute_result"
    }
   ],
   "source": [
    "df = pd.read_csv('./features_30_sec.csv')\n",
    "df.head()"
   ]
  },
  {
   "cell_type": "code",
   "execution_count": 3,
   "metadata": {
    "id": "CHZQbQVzqGIA"
   },
   "outputs": [
    {
     "data": {
      "text/plain": [
       "blues        100\n",
       "classical    100\n",
       "country      100\n",
       "disco        100\n",
       "hiphop       100\n",
       "jazz         100\n",
       "metal        100\n",
       "pop          100\n",
       "reggae       100\n",
       "rock         100\n",
       "Name: label, dtype: int64"
      ]
     },
     "execution_count": 3,
     "metadata": {},
     "output_type": "execute_result"
    }
   ],
   "source": [
    "df['label'].value_counts()"
   ]
  },
  {
   "cell_type": "markdown",
   "metadata": {
    "id": "1zp_RDMgqL9Z"
   },
   "source": [
    "Split and scale dataset"
   ]
  },
  {
   "cell_type": "code",
   "execution_count": 4,
   "metadata": {
    "id": "2fNTd9t7qHCI"
   },
   "outputs": [],
   "source": [
    "columns_to_drop = ['label', 'filename', 'length']\n",
    "\n",
    "\n",
    "def prepare_dataset(df, columns_to_drop, test_size, random_state):\n",
    "    # Encode the labels from 0 to n_classes-1\n",
    "    label_encoder = preprocessing.LabelEncoder()\n",
    "    df['label'] = label_encoder.fit_transform(df['label'])\n",
    "\n",
    "    # devide data to train and test\n",
    "    df_train, df_test = train_test_split(df, test_size=test_size, random_state=random_state)\n",
    "\n",
    "    # scale the training inputs\n",
    "    x_train = df_train.drop(columns_to_drop, axis=1)\n",
    "    y_train = df_train['label'].to_numpy()\n",
    "\n",
    "    standard_scaler = preprocessing.StandardScaler()\n",
    "    x_train_scaled = standard_scaler.fit_transform(x_train)\n",
    "\n",
    "    #scale and prepare testing data\n",
    "    x_test = df_test.drop(columns_to_drop, axis=1)\n",
    "    x_test_scaled = standard_scaler.transform(x_test)\n",
    "    y_test = df_test['label'].to_numpy()\n",
    "\n",
    "    return x_train_scaled, y_train, x_test_scaled, y_test"
   ]
  },
  {
   "cell_type": "code",
   "execution_count": 5,
   "metadata": {
    "id": "2fNTd9t7qHCI"
   },
   "outputs": [
    {
     "name": "stdout",
     "output_type": "stream",
     "text": [
      "(700, 57) (700,)\n",
      "(300, 57) (300,)\n"
     ]
    }
   ],
   "source": [
    "X_train, y_train, X_test, y_test = prepare_dataset(df, columns_to_drop, test_size=0.3, random_state=0)\n",
    "\n",
    "print(X_train.shape, y_train.shape)\n",
    "print(X_test.shape, y_test.shape)"
   ]
  },
  {
   "cell_type": "markdown",
   "metadata": {},
   "source": [
    "## Question 1\n",
    "\n",
    "Design a feedforward deep neural network (DNN) which consists of an input layer, one hidden layer of 16 neurons with ReLU activation function, and an output softmax layer. Use an stochastic gradient descent with ‘adam’ optimizer with default parameters, and batch size = 1. Apply dropout of probability 0.3 to the hidden layer. Divide the dataset into a 70:30 ratio for training and testing. Use appropriate scaling of input features. We solely assume that there are only two datasets here: training & test. We would look into validation in Question 2 onwards."
   ]
  },
  {
   "cell_type": "code",
   "execution_count": 6,
   "metadata": {
    "scrolled": true
   },
   "outputs": [],
   "source": [
    "class Question1():\n",
    "\n",
    "    def __init__(self, X_train, y_train, X_test, y_test, epochs=50, num_hidden_neurons=16, batch_size=1):\n",
    "        self.epochs = epochs\n",
    "        self.num_hidden_neurons = num_hidden_neurons\n",
    "        self.batch_size = batch_size\n",
    "        self.seed = 0\n",
    "        self.history = None\n",
    "\n",
    "        self.X_train = X_train\n",
    "        self.y_train = y_train\n",
    "        self.X_test = X_test\n",
    "        self.y_test = y_test\n",
    "\n",
    "        np.random.seed(self.seed)\n",
    "        tf.random.set_seed(self.seed)\n",
    "\n",
    "    def create_model(self):\n",
    "        # create the model\n",
    "        self.model = tf.keras.Sequential([\n",
    "            tf.keras.layers.Dense(units=self.num_hidden_neurons, activation='relu'),\n",
    "            tf.keras.layers.Dropout(rate=0.3, seed=self.seed),\n",
    "            tf.keras.layers.Dense(units=10, activation='softmax')\n",
    "        ])\n",
    "\n",
    "        self.model.compile(optimizer='adam',\n",
    "                           loss='sparse_categorical_crossentropy',\n",
    "                           metrics=['accuracy'])\n",
    "\n",
    "    def summarize_model(self):\n",
    "        # summarize the model\n",
    "        print(self.model.summary())\n",
    "\n",
    "    def train_model(self, batch_size=None):\n",
    "        # train the model\n",
    "        batch_size = batch_size or self.batch_size\n",
    "        self.history = self.model.fit(x=self.X_train, y=self.y_train,\n",
    "                                      batch_size=batch_size,\n",
    "                                      epochs=self.epochs,\n",
    "                                      verbose=1,\n",
    "                                      validation_data=(self.X_test, self.y_test))\n",
    "\n",
    "    def plot_model(self, variable='loss'):\n",
    "        # plot learning curves\n",
    "        plt.plot(self.history.history[variable], label='Model training {}'.format(variable))\n",
    "        plt.plot(self.history.history['val_{}'.format(variable)], label='Model testing {}'.format(variable))\n",
    "        plt.title('Model {}'.format(variable))\n",
    "        plt.ylabel('{}'.format(variable))\n",
    "        plt.xlabel('epoch')\n",
    "        plt.legend(loc=\"best\")\n",
    "        plt.show()"
   ]
  },
  {
   "cell_type": "markdown",
   "metadata": {},
   "source": [
    "a) Use the training dataset to train the model for 50 epochs. Note: Use 50 epochs for subsequent experiments."
   ]
  },
  {
   "cell_type": "code",
   "execution_count": 7,
   "metadata": {
    "pycharm": {
     "name": "#%%\n"
    }
   },
   "outputs": [
    {
     "name": "stdout",
     "output_type": "stream",
     "text": [
      "Metal device set to: Apple M1\n",
      "Epoch 1/50\n"
     ]
    },
    {
     "name": "stderr",
     "output_type": "stream",
     "text": [
      "2021-10-05 03:45:02.670882: I tensorflow/core/common_runtime/pluggable_device/pluggable_device_factory.cc:305] Could not identify NUMA node of platform GPU ID 0, defaulting to 0. Your kernel may not have been built with NUMA support.\n",
      "2021-10-05 03:45:02.670959: I tensorflow/core/common_runtime/pluggable_device/pluggable_device_factory.cc:271] Created TensorFlow device (/job:localhost/replica:0/task:0/device:GPU:0 with 0 MB memory) -> physical PluggableDevice (device: 0, name: METAL, pci bus id: <undefined>)\n",
      "2021-10-05 03:45:02.747248: I tensorflow/compiler/mlir/mlir_graph_optimization_pass.cc:176] None of the MLIR Optimization Passes are enabled (registered 2)\n",
      "2021-10-05 03:45:02.747422: W tensorflow/core/platform/profile_utils/cpu_utils.cc:128] Failed to get CPU frequency: 0 Hz\n",
      "2021-10-05 03:45:02.852739: I tensorflow/core/grappler/optimizers/custom_graph_optimizer_registry.cc:112] Plugin optimizer for device_type GPU is enabled.\n"
     ]
    },
    {
     "name": "stdout",
     "output_type": "stream",
     "text": [
      "696/700 [============================>.] - ETA: 0s - loss: 2.0825 - accuracy: 0.2313"
     ]
    },
    {
     "name": "stderr",
     "output_type": "stream",
     "text": [
      "2021-10-05 03:45:05.184330: I tensorflow/core/grappler/optimizers/custom_graph_optimizer_registry.cc:112] Plugin optimizer for device_type GPU is enabled.\n"
     ]
    },
    {
     "name": "stdout",
     "output_type": "stream",
     "text": [
      "700/700 [==============================] - 3s 4ms/step - loss: 2.0808 - accuracy: 0.2329 - val_loss: 1.7857 - val_accuracy: 0.3667\n",
      "Epoch 2/50\n",
      "700/700 [==============================] - 3s 4ms/step - loss: 1.6723 - accuracy: 0.3929 - val_loss: 1.5291 - val_accuracy: 0.4433\n",
      "Epoch 3/50\n",
      "700/700 [==============================] - 3s 4ms/step - loss: 1.4676 - accuracy: 0.4429 - val_loss: 1.3954 - val_accuracy: 0.4867\n",
      "Epoch 4/50\n",
      "700/700 [==============================] - 3s 4ms/step - loss: 1.3742 - accuracy: 0.4929 - val_loss: 1.2909 - val_accuracy: 0.5167\n",
      "Epoch 5/50\n",
      "700/700 [==============================] - 3s 4ms/step - loss: 1.2596 - accuracy: 0.5300 - val_loss: 1.2492 - val_accuracy: 0.5600\n",
      "Epoch 6/50\n",
      "700/700 [==============================] - 3s 4ms/step - loss: 1.1984 - accuracy: 0.5743 - val_loss: 1.2200 - val_accuracy: 0.5567\n",
      "Epoch 7/50\n",
      "700/700 [==============================] - 3s 4ms/step - loss: 1.1564 - accuracy: 0.5714 - val_loss: 1.1927 - val_accuracy: 0.5733\n",
      "Epoch 8/50\n",
      "700/700 [==============================] - 3s 4ms/step - loss: 1.0909 - accuracy: 0.6014 - val_loss: 1.1480 - val_accuracy: 0.5800\n",
      "Epoch 9/50\n",
      "700/700 [==============================] - 3s 4ms/step - loss: 1.0806 - accuracy: 0.6014 - val_loss: 1.1425 - val_accuracy: 0.6167\n",
      "Epoch 10/50\n",
      "700/700 [==============================] - 3s 4ms/step - loss: 1.0281 - accuracy: 0.6300 - val_loss: 1.1261 - val_accuracy: 0.6167\n",
      "Epoch 11/50\n",
      "700/700 [==============================] - 3s 4ms/step - loss: 0.9821 - accuracy: 0.6357 - val_loss: 1.1053 - val_accuracy: 0.6267\n",
      "Epoch 12/50\n",
      "700/700 [==============================] - 3s 4ms/step - loss: 0.9821 - accuracy: 0.6514 - val_loss: 1.0985 - val_accuracy: 0.6267\n",
      "Epoch 13/50\n",
      "700/700 [==============================] - 3s 4ms/step - loss: 1.0079 - accuracy: 0.6229 - val_loss: 1.1109 - val_accuracy: 0.6367\n",
      "Epoch 14/50\n",
      "700/700 [==============================] - 3s 4ms/step - loss: 0.9484 - accuracy: 0.6629 - val_loss: 1.1134 - val_accuracy: 0.6533\n",
      "Epoch 15/50\n",
      "700/700 [==============================] - 3s 4ms/step - loss: 0.9009 - accuracy: 0.6629 - val_loss: 1.0730 - val_accuracy: 0.6300\n",
      "Epoch 16/50\n",
      "700/700 [==============================] - 3s 4ms/step - loss: 0.8992 - accuracy: 0.6829 - val_loss: 1.0384 - val_accuracy: 0.6633\n",
      "Epoch 17/50\n",
      "700/700 [==============================] - 3s 5ms/step - loss: 0.8924 - accuracy: 0.6971 - val_loss: 1.0618 - val_accuracy: 0.6467\n",
      "Epoch 18/50\n",
      "700/700 [==============================] - 3s 4ms/step - loss: 0.8574 - accuracy: 0.6829 - val_loss: 1.0882 - val_accuracy: 0.6367\n",
      "Epoch 19/50\n",
      "700/700 [==============================] - 3s 4ms/step - loss: 0.8087 - accuracy: 0.6971 - val_loss: 1.0682 - val_accuracy: 0.6333\n",
      "Epoch 20/50\n",
      "700/700 [==============================] - 3s 4ms/step - loss: 0.8524 - accuracy: 0.6843 - val_loss: 1.1000 - val_accuracy: 0.6433\n",
      "Epoch 21/50\n",
      "700/700 [==============================] - 3s 4ms/step - loss: 0.8610 - accuracy: 0.6714 - val_loss: 1.0655 - val_accuracy: 0.6600\n",
      "Epoch 22/50\n",
      "700/700 [==============================] - 3s 4ms/step - loss: 0.8318 - accuracy: 0.6871 - val_loss: 1.0599 - val_accuracy: 0.6367\n",
      "Epoch 23/50\n",
      "700/700 [==============================] - 3s 4ms/step - loss: 0.8264 - accuracy: 0.6986 - val_loss: 1.0547 - val_accuracy: 0.6533\n",
      "Epoch 24/50\n",
      "700/700 [==============================] - 3s 4ms/step - loss: 0.8372 - accuracy: 0.6943 - val_loss: 1.0713 - val_accuracy: 0.6433\n",
      "Epoch 25/50\n",
      "700/700 [==============================] - 3s 4ms/step - loss: 0.8158 - accuracy: 0.6957 - val_loss: 1.0891 - val_accuracy: 0.6400\n",
      "Epoch 26/50\n",
      "700/700 [==============================] - 3s 4ms/step - loss: 0.7915 - accuracy: 0.7043 - val_loss: 1.0859 - val_accuracy: 0.6433\n",
      "Epoch 27/50\n",
      "700/700 [==============================] - 3s 4ms/step - loss: 0.8050 - accuracy: 0.7071 - val_loss: 1.0610 - val_accuracy: 0.6533\n",
      "Epoch 28/50\n",
      "700/700 [==============================] - 3s 4ms/step - loss: 0.7525 - accuracy: 0.7100 - val_loss: 1.0637 - val_accuracy: 0.6533\n",
      "Epoch 29/50\n",
      "700/700 [==============================] - 3s 4ms/step - loss: 0.7711 - accuracy: 0.7157 - val_loss: 1.0905 - val_accuracy: 0.6367\n",
      "Epoch 30/50\n",
      "700/700 [==============================] - 3s 4ms/step - loss: 0.7673 - accuracy: 0.7200 - val_loss: 1.0874 - val_accuracy: 0.6500\n",
      "Epoch 31/50\n",
      "700/700 [==============================] - 3s 4ms/step - loss: 0.7184 - accuracy: 0.7414 - val_loss: 1.1105 - val_accuracy: 0.6500\n",
      "Epoch 32/50\n",
      "700/700 [==============================] - 3s 4ms/step - loss: 0.7832 - accuracy: 0.6957 - val_loss: 1.1554 - val_accuracy: 0.6667\n",
      "Epoch 33/50\n",
      "700/700 [==============================] - 3s 4ms/step - loss: 0.7804 - accuracy: 0.7357 - val_loss: 1.1235 - val_accuracy: 0.6633\n",
      "Epoch 34/50\n",
      "700/700 [==============================] - 3s 4ms/step - loss: 0.6923 - accuracy: 0.7457 - val_loss: 1.1786 - val_accuracy: 0.6300\n",
      "Epoch 35/50\n",
      "700/700 [==============================] - 3s 4ms/step - loss: 0.7470 - accuracy: 0.7114 - val_loss: 1.1336 - val_accuracy: 0.6700\n",
      "Epoch 36/50\n",
      "700/700 [==============================] - 3s 4ms/step - loss: 0.7456 - accuracy: 0.7329 - val_loss: 1.1353 - val_accuracy: 0.6567\n",
      "Epoch 37/50\n",
      "700/700 [==============================] - 3s 4ms/step - loss: 0.7348 - accuracy: 0.7429 - val_loss: 1.1299 - val_accuracy: 0.6667\n",
      "Epoch 38/50\n",
      "700/700 [==============================] - 3s 4ms/step - loss: 0.6955 - accuracy: 0.7486 - val_loss: 1.1564 - val_accuracy: 0.6600\n",
      "Epoch 39/50\n",
      "700/700 [==============================] - 3s 4ms/step - loss: 0.7311 - accuracy: 0.7500 - val_loss: 1.1605 - val_accuracy: 0.6733\n",
      "Epoch 40/50\n",
      "700/700 [==============================] - 3s 4ms/step - loss: 0.7326 - accuracy: 0.7357 - val_loss: 1.1287 - val_accuracy: 0.6733\n",
      "Epoch 41/50\n",
      "700/700 [==============================] - 3s 4ms/step - loss: 0.6951 - accuracy: 0.7371 - val_loss: 1.1504 - val_accuracy: 0.6733\n",
      "Epoch 42/50\n",
      "700/700 [==============================] - 3s 4ms/step - loss: 0.6931 - accuracy: 0.7500 - val_loss: 1.1791 - val_accuracy: 0.6700\n",
      "Epoch 43/50\n",
      "700/700 [==============================] - 3s 4ms/step - loss: 0.6704 - accuracy: 0.7414 - val_loss: 1.1781 - val_accuracy: 0.6667\n",
      "Epoch 44/50\n",
      "700/700 [==============================] - 3s 4ms/step - loss: 0.7129 - accuracy: 0.7271 - val_loss: 1.1755 - val_accuracy: 0.6667\n",
      "Epoch 45/50\n",
      "700/700 [==============================] - 3s 4ms/step - loss: 0.6947 - accuracy: 0.7429 - val_loss: 1.1806 - val_accuracy: 0.6833\n",
      "Epoch 46/50\n",
      "700/700 [==============================] - 3s 4ms/step - loss: 0.6558 - accuracy: 0.7543 - val_loss: 1.1871 - val_accuracy: 0.6600\n",
      "Epoch 47/50\n",
      "700/700 [==============================] - 3s 4ms/step - loss: 0.6557 - accuracy: 0.7571 - val_loss: 1.2086 - val_accuracy: 0.6700\n",
      "Epoch 48/50\n",
      "700/700 [==============================] - 3s 4ms/step - loss: 0.6996 - accuracy: 0.7400 - val_loss: 1.2126 - val_accuracy: 0.6733\n",
      "Epoch 49/50\n",
      "700/700 [==============================] - 3s 4ms/step - loss: 0.6762 - accuracy: 0.7357 - val_loss: 1.2391 - val_accuracy: 0.6567\n",
      "Epoch 50/50\n",
      "700/700 [==============================] - 3s 4ms/step - loss: 0.6585 - accuracy: 0.7543 - val_loss: 1.2465 - val_accuracy: 0.6700\n"
     ]
    }
   ],
   "source": [
    "question1 = Question1(X_train, y_train, X_test, y_test)\n",
    "question1.create_model()\n",
    "question1.train_model()"
   ]
  },
  {
   "cell_type": "markdown",
   "metadata": {},
   "source": [
    "b) Plot accuracies on training and test data against training epochs and\n",
    "comment on the plots."
   ]
  },
  {
   "cell_type": "code",
   "execution_count": 8,
   "metadata": {},
   "outputs": [
    {
     "data": {
      "image/png": "[encoded data removed]",
      "text/plain": [
       "<Figure size 432x288 with 1 Axes>"
      ]
     },
     "metadata": {
      "needs_background": "light"
     },
     "output_type": "display_data"
    }
   ],
   "source": [
    "question1.plot_model('accuracy')"
   ]
  },
  {
   "cell_type": "markdown",
   "metadata": {},
   "source": [
    "c) Plot the losses on training and test data against training epochs. State the approximate number of epochs where the test error begins to converge."
   ]
  },
  {
   "cell_type": "code",
   "execution_count": 9,
   "metadata": {},
   "outputs": [
    {
     "data": {
      "image/png": "[encoded data removed]",
      "text/plain": [
       "<Figure size 432x288 with 1 Axes>"
      ]
     },
     "metadata": {
      "needs_background": "light"
     },
     "output_type": "display_data"
    }
   ],
   "source": [
    "question1.plot_model('loss')"
   ]
  },
  {
   "cell_type": "markdown",
   "metadata": {},
   "source": [
    "## Question 2\n",
    "\n",
    "In this question, we will compare the performance of the model using stochastic gradient descent and mini-batch gradient descent, as well as determining the optimal batch size for mini-batch gradient descent. Find the optimal batch size for mini-batch gradient descent by training the neural network and evaluating the performances for different batch sizes. Note: Use 3-fold cross-validation on training partition to perform parameter selection."
   ]
  },
  {
   "cell_type": "code",
   "execution_count": 10,
   "metadata": {},
   "outputs": [],
   "source": [
    "class TimeTakenPerEpochCallback(tf.keras.callbacks.Callback):\n",
    "\n",
    "    def __init__(self):\n",
    "        self.times = []\n",
    "\n",
    "    def on_epoch_begin(self, epoch, logs=None):\n",
    "        self.epoch_begin_time = time.process_time()\n",
    "\n",
    "    def on_epoch_end(self, epoch, logs=None):\n",
    "        self.times.append(time.process_time() - self.epoch_begin_time)\n",
    "\n",
    "\n",
    "class Question2():\n",
    "\n",
    "    def __init__(self, X_train, y_train, X_test, y_test, epochs=50, num_hidden_neurons=16, batch_size=1,\n",
    "                 num_experiments=10):\n",
    "        self.epochs = epochs\n",
    "        self.num_hidden_neurons = num_hidden_neurons\n",
    "        self.batch_size = batch_size\n",
    "        self.num_experiments = num_experiments\n",
    "        self.batch_sizes = [1, 4, 8, 16, 32, 64]\n",
    "        self.num_folds = 3\n",
    "        self.seed = 0\n",
    "        self.history = None\n",
    "\n",
    "        self.X_train = X_train\n",
    "        self.y_train = y_train\n",
    "        self.X_test = X_test\n",
    "        self.y_test = y_test\n",
    "\n",
    "        np.random.seed(self.seed)\n",
    "        tf.random.set_seed(self.seed)\n",
    "\n",
    "    def create_model(self):\n",
    "        # create the model\n",
    "        self.model = tf.keras.Sequential([\n",
    "            tf.keras.layers.Dense(units=self.num_hidden_neurons, activation='relu'),\n",
    "            tf.keras.layers.Dropout(rate=0.3, seed=self.seed),\n",
    "            tf.keras.layers.Dense(units=10, activation='softmax')\n",
    "        ])\n",
    "\n",
    "        self.model.compile(optimizer='adam',\n",
    "                           loss='sparse_categorical_crossentropy',\n",
    "                           metrics=['accuracy'])\n",
    "\n",
    "    def cross_validate_run_experiment(self, experiment_X_train, experiment_y_train):\n",
    "        size_fold = len(experiment_X_train) // self.num_folds\n",
    "        # batch_size_key -> num_fold_key -> val_accuracy\n",
    "        experiment_accuracy = {}\n",
    "        # batch_size_key -> num_fold_key -> time_taken_list\n",
    "        experiment_time = {}\n",
    "\n",
    "        for num_fold in range(self.num_folds):\n",
    "            start, end = num_fold * size_fold, (num_fold + 1) * size_fold\n",
    "            cv_X_train = np.append(experiment_X_train[:start], experiment_X_train[end:], axis=0)\n",
    "            cv_y_train = np.append(experiment_y_train[:start], experiment_y_train[end:], axis=0)\n",
    "            cv_X_test, cv_y_test = experiment_X_train[start:end], experiment_y_train[start:end]\n",
    "\n",
    "            for batch_size in self.batch_sizes:\n",
    "\n",
    "                cv_model = tf.keras.Sequential([\n",
    "                    tf.keras.layers.Dense(units=self.num_hidden_neurons, activation='relu'),\n",
    "                    tf.keras.layers.Dropout(rate=0.3, seed=self.seed),\n",
    "                    tf.keras.layers.Dense(units=10, activation='softmax')\n",
    "                ])\n",
    "\n",
    "                cv_model.compile(optimizer='adam',\n",
    "                                 loss='sparse_categorical_crossentropy',\n",
    "                                 metrics=['accuracy'])\n",
    "\n",
    "                callback = TimeTakenPerEpochCallback()\n",
    "\n",
    "                cv_history = cv_model.fit(x=cv_X_train, y=cv_y_train,\n",
    "                                          batch_size=batch_size,\n",
    "                                          epochs=self.epochs,\n",
    "                                          verbose=0,\n",
    "                                          callbacks=[callback],\n",
    "                                          validation_data=(cv_X_test, cv_y_test))\n",
    "\n",
    "                batch_size_key = \"batch_size: {}\".format(batch_size)\n",
    "                num_fold_key = \"num_fold: {}\".format(num_fold)\n",
    "\n",
    "                # populate experiment_result\n",
    "                if not experiment_accuracy.get(batch_size_key):\n",
    "                    experiment_accuracy[batch_size_key] = {}\n",
    "\n",
    "                experiment_accuracy[batch_size_key][num_fold_key] = cv_history.history['val_accuracy'][self.epochs - 1]\n",
    "\n",
    "                # populate experiment_time\n",
    "                if not experiment_time.get(batch_size_key):\n",
    "                    experiment_time[batch_size_key] = {}\n",
    "\n",
    "                experiment_time[batch_size_key][num_fold_key] = callback.times\n",
    "\n",
    "        return (experiment_accuracy, experiment_time)\n",
    "\n",
    "    def cross_validate_model(self):\n",
    "        size_X_train = len(self.X_train)\n",
    "        index = np.arange(size_X_train)\n",
    "        # experiment -> batch_size_key -> num_fold_key -> val_accuracy\n",
    "        experiment_accuracies = {}\n",
    "        # experiment -> batch_size_key -> num_fold_key -> time_taken_per_epoch_list\n",
    "        experiment_times = {}\n",
    "\n",
    "        for experiment in range(self.num_experiments):\n",
    "            np.random.shuffle(index)\n",
    "            experiment_X_train, experiment_y_train = self.X_train[index], self.y_train[index]\n",
    "            experiment_accuracy, experiment_time = self.cross_validate_run_experiment(experiment_X_train,\n",
    "                                                                                      experiment_y_train)\n",
    "            experiment_key = \"experiment: {}\".format(experiment)\n",
    "            experiment_accuracies[experiment_key] = experiment_accuracy\n",
    "            experiment_times[experiment_key] = experiment_time\n",
    "\n",
    "        experiment_mean_accuracies = self.cross_validate_get_experiment_mean_accuracies(experiment_accuracies)\n",
    "        mean_of_experiment_mean_accuracies = self.cross_validate_get_mean_of_experiment_mean_accuracies(\n",
    "            experiment_mean_accuracies)\n",
    "\n",
    "        experiment_median_times = self.cross_validate_get_median_of_experiment_times(experiment_times)\n",
    "\n",
    "        return (mean_of_experiment_mean_accuracies, experiment_median_times)\n",
    "\n",
    "    @staticmethod\n",
    "    def cross_validate_get_experiment_mean_accuracies(experiment_accuracies):\n",
    "        # experiment -> batch_size_key -> mean_val_accuracy\n",
    "        experiment_mean_accuracies = {}\n",
    "\n",
    "        for experiment_key in experiment_accuracies.keys():\n",
    "            experiment_accuracy = experiment_accuracies[experiment_key]\n",
    "            experiment_mean_accuracy = {}\n",
    "\n",
    "            for batch_size_key in experiment_accuracy.keys():\n",
    "                experiment_mean_accuracy[batch_size_key] = np.mean(list(experiment_accuracy[batch_size_key].values()))\n",
    "\n",
    "            experiment_mean_accuracies[experiment_key] = experiment_mean_accuracy\n",
    "\n",
    "        return experiment_mean_accuracies\n",
    "\n",
    "    @staticmethod\n",
    "    def cross_validate_get_mean_of_experiment_mean_accuracies(experiment_mean_accuracies):\n",
    "        # batch_size_key -> mean_of_mean_val_accuracy\n",
    "        mean_of_experiment_mean_accuracies = {}\n",
    "\n",
    "        for experiment_key in experiment_mean_accuracies.keys():\n",
    "            experiment_mean_accuracy = experiment_mean_accuracies[experiment_key]\n",
    "\n",
    "            for batch_size_key in experiment_mean_accuracy:\n",
    "                if not mean_of_experiment_mean_accuracies.get(batch_size_key):\n",
    "                    mean_of_experiment_mean_accuracies[batch_size_key] = []\n",
    "                mean_of_experiment_mean_accuracies[batch_size_key].append(\n",
    "                    experiment_mean_accuracies[experiment_key][batch_size_key])\n",
    "\n",
    "        for batch_size_key in mean_of_experiment_mean_accuracies.keys():\n",
    "            mean_of_experiment_mean_accuracies[batch_size_key] = np.mean(\n",
    "                mean_of_experiment_mean_accuracies[batch_size_key])\n",
    "\n",
    "        return mean_of_experiment_mean_accuracies\n",
    "\n",
    "    @staticmethod\n",
    "    def cross_validate_get_median_of_experiment_times(experiment_times):\n",
    "        # batch_size_key -> median_time_taken_per_epoch\n",
    "        experiment_median_times = {}\n",
    "\n",
    "        for experiment_key in experiment_times.keys():\n",
    "            experiment_time = experiment_times[experiment_key]\n",
    "\n",
    "            for batch_size_key in experiment_time.keys():\n",
    "                for num_fold_key in experiment_time[batch_size_key]:\n",
    "                    if not experiment_median_times.get(batch_size_key):\n",
    "                        experiment_median_times[batch_size_key] = []\n",
    "\n",
    "                    experiment_median_times[batch_size_key].extend(experiment_time[batch_size_key][num_fold_key])\n",
    "\n",
    "        for batch_size_key in experiment_median_times.keys():\n",
    "            experiment_median_times[batch_size_key] = np.median(\n",
    "                experiment_median_times[batch_size_key])\n",
    "\n",
    "        return experiment_median_times\n",
    "\n",
    "    def summarize_model(self):\n",
    "        # summarize the model\n",
    "        print(self.model.summary())\n",
    "\n",
    "    def train_model(self, batch_size=None):\n",
    "        # train the model\n",
    "        batch_size = batch_size or self.batch_size\n",
    "        self.history = self.model.fit(x=self.X_train, y=self.y_train,\n",
    "                                      batch_size=batch_size,\n",
    "                                      epochs=self.epochs,\n",
    "                                      verbose=1,\n",
    "                                      validation_data=(self.X_test, self.y_test))\n",
    "\n",
    "    def plot_model(self, variable='loss'):\n",
    "        # plot learning curves\n",
    "        plt.plot(self.history.history[variable], label='Model training {}'.format(variable))\n",
    "        plt.plot(self.history.history['val_{}'.format(variable)], label='Model testing {}'.format(variable))\n",
    "        plt.title('Model {}'.format(variable))\n",
    "        plt.ylabel('{}'.format(variable))\n",
    "        plt.xlabel('epoch')\n",
    "        plt.legend(loc=\"best\")\n",
    "        plt.show()"
   ]
  },
  {
   "cell_type": "markdown",
   "metadata": {},
   "source": [
    "a) Plot mean cross-validation accuracies over the training epochs for different batch sizes. Limit search space to batch sizes {1,4,8,16,32, 64}."
   ]
  },
  {
   "cell_type": "code",
   "execution_count": 23,
   "metadata": {
    "scrolled": true
   },
   "outputs": [
    {
     "name": "stderr",
     "output_type": "stream",
     "text": [
      "2021-10-05 03:53:14.765858: I tensorflow/core/grappler/optimizers/custom_graph_optimizer_registry.cc:112] Plugin optimizer for device_type GPU is enabled.\n",
      "2021-10-05 03:53:15.959250: I tensorflow/core/grappler/optimizers/custom_graph_optimizer_registry.cc:112] Plugin optimizer for device_type GPU is enabled.\n",
      "2021-10-05 03:53:22.532840: I tensorflow/core/grappler/optimizers/custom_graph_optimizer_registry.cc:112] Plugin optimizer for device_type GPU is enabled.\n",
      "2021-10-05 03:53:22.945825: I tensorflow/core/grappler/optimizers/custom_graph_optimizer_registry.cc:112] Plugin optimizer for device_type GPU is enabled.\n",
      "2021-10-05 03:53:25.169279: I tensorflow/core/grappler/optimizers/custom_graph_optimizer_registry.cc:112] Plugin optimizer for device_type GPU is enabled.\n",
      "2021-10-05 03:53:25.419536: I tensorflow/core/grappler/optimizers/custom_graph_optimizer_registry.cc:112] Plugin optimizer for device_type GPU is enabled.\n",
      "2021-10-05 03:53:26.686150: I tensorflow/core/grappler/optimizers/custom_graph_optimizer_registry.cc:112] Plugin optimizer for device_type GPU is enabled.\n",
      "2021-10-05 03:53:26.854526: I tensorflow/core/grappler/optimizers/custom_graph_optimizer_registry.cc:112] Plugin optimizer for device_type GPU is enabled.\n",
      "2021-10-05 03:53:27.533324: I tensorflow/core/grappler/optimizers/custom_graph_optimizer_registry.cc:112] Plugin optimizer for device_type GPU is enabled.\n",
      "2021-10-05 03:53:27.654032: I tensorflow/core/grappler/optimizers/custom_graph_optimizer_registry.cc:112] Plugin optimizer for device_type GPU is enabled.\n",
      "2021-10-05 03:53:28.090308: I tensorflow/core/grappler/optimizers/custom_graph_optimizer_registry.cc:112] Plugin optimizer for device_type GPU is enabled.\n",
      "2021-10-05 03:53:28.195955: I tensorflow/core/grappler/optimizers/custom_graph_optimizer_registry.cc:112] Plugin optimizer for device_type GPU is enabled.\n",
      "2021-10-05 03:53:28.543223: I tensorflow/core/grappler/optimizers/custom_graph_optimizer_registry.cc:112] Plugin optimizer for device_type GPU is enabled.\n",
      "2021-10-05 03:53:29.746904: I tensorflow/core/grappler/optimizers/custom_graph_optimizer_registry.cc:112] Plugin optimizer for device_type GPU is enabled.\n",
      "2021-10-05 03:53:36.434417: I tensorflow/core/grappler/optimizers/custom_graph_optimizer_registry.cc:112] Plugin optimizer for device_type GPU is enabled.\n",
      "2021-10-05 03:53:36.849694: I tensorflow/core/grappler/optimizers/custom_graph_optimizer_registry.cc:112] Plugin optimizer for device_type GPU is enabled.\n",
      "2021-10-05 03:53:39.119972: I tensorflow/core/grappler/optimizers/custom_graph_optimizer_registry.cc:112] Plugin optimizer for device_type GPU is enabled.\n",
      "2021-10-05 03:53:39.368156: I tensorflow/core/grappler/optimizers/custom_graph_optimizer_registry.cc:112] Plugin optimizer for device_type GPU is enabled.\n",
      "2021-10-05 03:53:40.560602: I tensorflow/core/grappler/optimizers/custom_graph_optimizer_registry.cc:112] Plugin optimizer for device_type GPU is enabled.\n",
      "2021-10-05 03:53:40.909870: I tensorflow/core/grappler/optimizers/custom_graph_optimizer_registry.cc:112] Plugin optimizer for device_type GPU is enabled.\n",
      "2021-10-05 03:53:41.681857: I tensorflow/core/grappler/optimizers/custom_graph_optimizer_registry.cc:112] Plugin optimizer for device_type GPU is enabled.\n",
      "2021-10-05 03:53:41.826088: I tensorflow/core/grappler/optimizers/custom_graph_optimizer_registry.cc:112] Plugin optimizer for device_type GPU is enabled.\n",
      "2021-10-05 03:53:42.255855: I tensorflow/core/grappler/optimizers/custom_graph_optimizer_registry.cc:112] Plugin optimizer for device_type GPU is enabled.\n",
      "2021-10-05 03:53:42.357525: I tensorflow/core/grappler/optimizers/custom_graph_optimizer_registry.cc:112] Plugin optimizer for device_type GPU is enabled.\n",
      "2021-10-05 03:53:42.653965: I tensorflow/core/grappler/optimizers/custom_graph_optimizer_registry.cc:112] Plugin optimizer for device_type GPU is enabled.\n",
      "2021-10-05 03:53:43.843136: I tensorflow/core/grappler/optimizers/custom_graph_optimizer_registry.cc:112] Plugin optimizer for device_type GPU is enabled.\n",
      "2021-10-05 03:53:50.305835: I tensorflow/core/grappler/optimizers/custom_graph_optimizer_registry.cc:112] Plugin optimizer for device_type GPU is enabled.\n",
      "2021-10-05 03:53:50.759275: I tensorflow/core/grappler/optimizers/custom_graph_optimizer_registry.cc:112] Plugin optimizer for device_type GPU is enabled.\n",
      "2021-10-05 03:53:53.239987: I tensorflow/core/grappler/optimizers/custom_graph_optimizer_registry.cc:112] Plugin optimizer for device_type GPU is enabled.\n",
      "2021-10-05 03:53:53.490078: I tensorflow/core/grappler/optimizers/custom_graph_optimizer_registry.cc:112] Plugin optimizer for device_type GPU is enabled.\n",
      "2021-10-05 03:53:54.774416: I tensorflow/core/grappler/optimizers/custom_graph_optimizer_registry.cc:112] Plugin optimizer for device_type GPU is enabled.\n",
      "2021-10-05 03:53:54.950747: I tensorflow/core/grappler/optimizers/custom_graph_optimizer_registry.cc:112] Plugin optimizer for device_type GPU is enabled.\n",
      "2021-10-05 03:53:55.639687: I tensorflow/core/grappler/optimizers/custom_graph_optimizer_registry.cc:112] Plugin optimizer for device_type GPU is enabled.\n",
      "2021-10-05 03:53:55.762473: I tensorflow/core/grappler/optimizers/custom_graph_optimizer_registry.cc:112] Plugin optimizer for device_type GPU is enabled.\n",
      "2021-10-05 03:53:56.185478: I tensorflow/core/grappler/optimizers/custom_graph_optimizer_registry.cc:112] Plugin optimizer for device_type GPU is enabled.\n",
      "2021-10-05 03:53:56.289829: I tensorflow/core/grappler/optimizers/custom_graph_optimizer_registry.cc:112] Plugin optimizer for device_type GPU is enabled.\n"
     ]
    },
    {
     "name": "stdout",
     "output_type": "stream",
     "text": [
      "{'batch_size: 1': 0.543633778889974, 'batch_size: 4': 0.43347638845443726, 'batch_size: 8': 0.407725324233373, 'batch_size: 16': 0.3075822591781616, 'batch_size: 32': 0.297567958633105, 'batch_size: 64': 0.20600858330726624}\n"
     ]
    }
   ],
   "source": [
    "question2 = Question2(X_train, y_train, X_test, y_test)\n",
    "mean_of_experiment_mean_accuracies, experiment_median_times = question2.cross_validate_model()\n",
    "print(mean_of_experiment_mean_accuracies)\n",
    "optimal_batch_size = max(mean_of_experiment_mean_accuracies, key=mean_of_experiment_mean_accuracies.get)"
   ]
  },
  {
   "cell_type": "markdown",
   "metadata": {},
   "source": [
    "b) Create a table of median time taken to train the network for one epoch against different batch sizes. (Hint: Introduce a callback)"
   ]
  },
  {
   "cell_type": "code",
   "execution_count": 24,
   "metadata": {},
   "outputs": [
    {
     "name": "stdout",
     "output_type": "stream",
     "text": [
      "{'batch_size: 1': 2.531010000000009, 'batch_size: 4': 0.8454890000000148, 'batch_size: 8': 0.445288000000005, 'batch_size: 16': 0.23240199999997913, 'batch_size: 32': 0.1208780000000047, 'batch_size: 64': 0.07270699999997987}\n"
     ]
    }
   ],
   "source": [
    "print(experiment_median_times)"
   ]
  },
  {
   "cell_type": "markdown",
   "metadata": {},
   "source": [
    "e) Plot the train and test accuracies against epochs for the optimal batch size. "
   ]
  },
  {
   "cell_type": "code",
   "execution_count": 25,
   "metadata": {},
   "outputs": [
    {
     "name": "stdout",
     "output_type": "stream",
     "text": [
      "Epoch 1/5\n",
      " 50/700 [=>............................] - ETA: 2s - loss: 2.7582 - accuracy: 0.1200  "
     ]
    },
    {
     "name": "stderr",
     "output_type": "stream",
     "text": [
      "2021-10-05 03:53:56.595012: I tensorflow/core/grappler/optimizers/custom_graph_optimizer_registry.cc:112] Plugin optimizer for device_type GPU is enabled.\n"
     ]
    },
    {
     "name": "stdout",
     "output_type": "stream",
     "text": [
      "689/700 [============================>.] - ETA: 0s - loss: 2.1481 - accuracy: 0.2540"
     ]
    },
    {
     "name": "stderr",
     "output_type": "stream",
     "text": [
      "2021-10-05 03:53:58.816060: I tensorflow/core/grappler/optimizers/custom_graph_optimizer_registry.cc:112] Plugin optimizer for device_type GPU is enabled.\n"
     ]
    },
    {
     "name": "stdout",
     "output_type": "stream",
     "text": [
      "700/700 [==============================] - 3s 4ms/step - loss: 2.1421 - accuracy: 0.2557 - val_loss: 1.7076 - val_accuracy: 0.4333\n",
      "Epoch 2/5\n",
      "700/700 [==============================] - 3s 4ms/step - loss: 1.6906 - accuracy: 0.3871 - val_loss: 1.5037 - val_accuracy: 0.5233\n",
      "Epoch 3/5\n",
      "700/700 [==============================] - 3s 4ms/step - loss: 1.4533 - accuracy: 0.4943 - val_loss: 1.3715 - val_accuracy: 0.5500\n",
      "Epoch 4/5\n",
      "700/700 [==============================] - 3s 4ms/step - loss: 1.3523 - accuracy: 0.5286 - val_loss: 1.2892 - val_accuracy: 0.5900\n",
      "Epoch 5/5\n",
      "700/700 [==============================] - 3s 4ms/step - loss: 1.2462 - accuracy: 0.5429 - val_loss: 1.2246 - val_accuracy: 0.6300\n"
     ]
    },
    {
     "data": {
      "image/png": "[encoded data removed]",
      "text/plain": [
       "<Figure size 432x288 with 1 Axes>"
      ]
     },
     "metadata": {
      "needs_background": "light"
     },
     "output_type": "display_data"
    }
   ],
   "source": [
    "question2.create_model()\n",
    "question2.train_model(batch_size=int(optimal_batch_size.split(\": \")[-1]))\n",
    "question2.plot_model('accuracy')"
   ]
  },
  {
   "cell_type": "markdown",
   "metadata": {},
   "source": [
    "## Question 5 (let’s dig deeper!)\n",
    "We are going to dissect the purpose of dropout in the model."
   ]
  },
  {
   "cell_type": "code",
   "execution_count": null,
   "metadata": {
    "scrolled": true
   },
   "outputs": [],
   "source": [
    "class Question5():\n",
    "\n",
    "    def __init__(self, X_train, y_train, X_test, y_test, epochs=50, num_hidden_neurons=16, batch_size=1):\n",
    "        self.epochs = epochs\n",
    "        self.num_hidden_neurons = num_hidden_neurons\n",
    "        self.batch_size = batch_size\n",
    "        self.seed = 0\n",
    "        self.history = None\n",
    "\n",
    "        self.X_train = X_train\n",
    "        self.y_train = y_train\n",
    "        self.X_test = X_test\n",
    "        self.y_test = y_test\n",
    "\n",
    "        np.random.seed(self.seed)\n",
    "        tf.random.set_seed(self.seed)\n",
    "\n",
    "    def create_model(self):\n",
    "        # create the model\n",
    "        self.model = tf.keras.Sequential([\n",
    "            tf.keras.layers.Dense(units=self.num_hidden_neurons, activation='relu'),\n",
    "            tf.keras.layers.Dense(units=10, activation='softmax')\n",
    "        ])\n",
    "\n",
    "        self.model.compile(optimizer='adam',\n",
    "                           loss='sparse_categorical_crossentropy',\n",
    "                           metrics=['accuracy'])\n",
    "\n",
    "    def summarize_model(self):\n",
    "        # summarize the model\n",
    "        print(self.model.summary())\n",
    "\n",
    "    def train_model(self, batch_size=None):\n",
    "        # train the model\n",
    "        batch_size = batch_size or self.batch_size\n",
    "        self.history = self.model.fit(x=self.X_train, y=self.y_train,\n",
    "                                      batch_size=batch_size,\n",
    "                                      epochs=self.epochs,\n",
    "                                      verbose=1,\n",
    "                                      validation_data=(self.X_test, self.y_test))\n",
    "\n",
    "    def plot_model(self, variable='loss'):\n",
    "        # plot learning curves\n",
    "        plt.plot(self.history.history[variable], label='Model training {}'.format(variable))\n",
    "        plt.plot(self.history.history['val_{}'.format(variable)], label='Model testing {}'.format(variable))\n",
    "        plt.title('Model {}'.format(variable))\n",
    "        plt.ylabel('{}'.format(variable))\n",
    "        plt.xlabel('epoch')\n",
    "        plt.legend(loc=\"best\")\n",
    "        plt.show()"
   ]
  },
  {
   "cell_type": "markdown",
   "metadata": {},
   "source": [
    "a) Why do we add dropouts? Investigate the purpose of dropouts by removing dropouts from your original 2-layer network (before changing the batch size and number of neurons). Plot accuracies on training and test data with neural network without dropout. Plot as well the losses on training and test data with neural network without dropout."
   ]
  },
  {
   "cell_type": "code",
   "execution_count": null,
   "metadata": {},
   "outputs": [],
   "source": [
    "question5 = Question5(X_train, y_train, X_test, y_test)\n",
    "question5.create_model()\n",
    "question5.train_model()"
   ]
  },
  {
   "cell_type": "code",
   "execution_count": null,
   "metadata": {},
   "outputs": [],
   "source": [
    "question5.plot_model('accuracy')\n",
    "question5.plot_model('loss')"
   ]
  }
 ],
 "metadata": {
  "colab": {
   "authorship_tag": "ABX9TyPBI19y+/jqNpPI0QeiLTYf",
   "collapsed_sections": [],
   "name": "StarterCode.ipynb",
   "provenance": []
  },
  "kernelspec": {
   "display_name": "Python 3.9 (tensorflow)",
   "language": "python",
   "name": "tensorflow"
  },
  "language_info": {
   "codemirror_mode": {
    "name": "ipython",
    "version": 3
   },
   "file_extension": ".py",
   "mimetype": "text/x-python",
   "name": "python",
   "nbconvert_exporter": "python",
   "pygments_lexer": "ipython3",
   "version": "3.9.6"
  }
 },
 "nbformat": 4,
 "nbformat_minor": 1
}